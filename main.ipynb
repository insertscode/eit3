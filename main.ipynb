{
  "nbformat": 4,
  "nbformat_minor": 0,
  "metadata": {
    "colab": {
      "name": "HW3:multimodel.ipynb",
      "provenance": [],
      "collapsed_sections": [
        "9kyaqCe7MHGh",
        "Avjv6HjTMaXi",
        "E9Nz-S9kMaLo",
        "sctCVhNQqzEs",
        "4zQcVL7dq1XV",
        "qewMqRdAAlL5",
        "no7gk0ycwS7F",
        "fX7pIfuni4mJ"
      ]
    },
    "kernelspec": {
      "name": "python3",
      "display_name": "Python 3"
    },
    "language_info": {
      "name": "python"
    }
  },
  "cells": [
    {
      "cell_type": "code",
      "execution_count": 1,
      "metadata": {
        "id": "G5B48p9v9pWC"
      },
      "outputs": [],
      "source": [
        "import pandas as pd\n",
        "import numpy as np\n",
        "import matplotlib.pyplot as plt\n",
        "import seaborn as sns\n",
        "from scipy.stats import multivariate_normal as mvn\n",
        "from geopy import Nominatim as nom\n",
        "import re, math"
      ]
    },
    {
      "cell_type": "markdown",
      "source": [
        "## Model Classes"
      ],
      "metadata": {
        "id": "9kyaqCe7MHGh"
      }
    },
    {
      "cell_type": "markdown",
      "source": [
        "### Regression"
      ],
      "metadata": {
        "id": "Avjv6HjTMaXi"
      }
    },
    {
      "cell_type": "code",
      "source": [
        "class KNNRegresor():\n",
        "\n",
        "    def fit(self, X, y):\n",
        "        self.X = X\n",
        "        self.y = y.astype(int)\n",
        "\n",
        "    def predict(self, X, K, epsilon=1e-3):\n",
        "        N = len(X)\n",
        "        y_hat = np.zeros(N)\n",
        "\n",
        "        for i in range(N):\n",
        "            distsqrd = np.sum((self.X - X[i])**2, axis=1)*epsilon  # Normalize a bit\n",
        "            idxtK = np.argsort(distsqrd)[:K]\n",
        "            gamma = np.exp(-distsqrd[idxtK])/(np.exp(-distsqrd[idxtK]).sum() + epsilon)\n",
        "            y_hat[i] = gamma.dot(self.y[idxtK])\n",
        "\n",
        "        return y_hat"
      ],
      "metadata": {
        "id": "cWXkKfJsMis9"
      },
      "execution_count": 2,
      "outputs": []
    },
    {
      "cell_type": "code",
      "source": [
        "class simpLinReg():\n",
        "\n",
        "    def fit(self, X, y):\n",
        "        self.y = y# y.astype(int)\n",
        "        self.denom = np.mean(X**2) - np.mean(X)**2\n",
        "        self.weights = (np.mean(X*y)-(np.mean(X)*np.mean(y)))/self.denom\n",
        "        self.biases = (np.mean(y)*np.mean(X**2) - np.mean(X)*np.mean(X*y))/self.denom\n",
        "    \n",
        "    def predict(self, X, y=[], show=0):\n",
        "        # if y == []: y = self.y  # May start create size mismatch issue \n",
        "        if y == []: y = self.y[:,len(X)]\n",
        "        y_hat = self.weights*X + self.biases\n",
        "        if show:\n",
        "            plt.figure()\n",
        "            plt.scatter(X, y, s=8)\n",
        "            plt.plot(X, y_hat, c=\"#FF0070\")\n",
        "        return y_hat"
      ],
      "metadata": {
        "id": "PmdaWzaWMnYS"
      },
      "execution_count": 3,
      "outputs": []
    },
    {
      "cell_type": "code",
      "source": [
        "class MMLinReg():\n",
        "\n",
        "    def fit(self, X, y):\n",
        "        self.W = np.linalg.solve(X.T@X, X.T@y)\n",
        "\n",
        "    def predict(self, X):\n",
        "        # return np.matmul(X, self.W)\n",
        "        return X@self.W"
      ],
      "metadata": {
        "id": "pxZRaBZAMsW0"
      },
      "execution_count": 4,
      "outputs": []
    },
    {
      "cell_type": "code",
      "source": [
        "class OurLinearRegression():\n",
        "\n",
        "    def fit(self, X, y, alpha=1e-3, epochs=1e3, show=0):\n",
        "        epochs = int(epochs)\n",
        "        N, D = X.shape\n",
        "        Y = y\n",
        "        gradient = 1/N\n",
        "        alphaG = alpha*gradient\n",
        "        \n",
        "        # Stochastic GD\n",
        "        self.W = np.random.randn(D)             # Init weights\n",
        "        J = np.zeros(epochs)                    # Init loss func storage\n",
        "        for epoch in range(epochs):             # GD steps\n",
        "            Y_hat = self.predict(X)             # y_hats\n",
        "            J[epoch] = OLS(Y, Y_hat, N)         # Calculating the error\n",
        "            self.W -= alphaG*(X.T@(Y_hat-Y))    # Weight update rule\n",
        "        if show: \n",
        "            self.show_curve(J)\n",
        "\n",
        "    def predict(self, X):\n",
        "        return X@self.W\n",
        "\n",
        "    def show_curve(self, J):\n",
        "        plt.figure()\n",
        "        plt.plot(J)\n",
        "        plt.xlabel(\"epochs\")\n",
        "        plt.ylabel(\"$\\mathcal{J}$\")\n",
        "        plt.title(\"Training Curve\")\n",
        "        plt.show()"
      ],
      "metadata": {
        "id": "Jh8TXWNTdLAE"
      },
      "execution_count": 5,
      "outputs": []
    },
    {
      "cell_type": "markdown",
      "source": [
        "### Classification"
      ],
      "metadata": {
        "id": "E9Nz-S9kMaLo"
      }
    },
    {
      "cell_type": "code",
      "source": [
        "class KNNClassifier():\n",
        "\n",
        "    def fit(self, X, y):\n",
        "        self.X = X\n",
        "        self.y = y.astype(int)\n",
        "\n",
        "    def predict(self, X, K, epsilon=1e-3):\n",
        "        N = len(X)\n",
        "        y_hat = np.zeros(N)\n",
        "        # Calculating distances from one point to every other point\n",
        "        for i in range(N):\n",
        "            dist2 = np.sum((self.X-X[i])**2, axis=1)  # List of distances\n",
        "            idxtK = np.argsort(dist2)[:K]    # Indecies in order from smallest to largest up to K\n",
        "            gamma = 1/(np.sqrt(dist2[idxtK]+epsilon))\n",
        "            y_hat[i] = np.bincount(self.y[idxtK], weights=gamma).argmax()\n",
        "        return y_hat"
      ],
      "metadata": {
        "id": "5Ci2MCfQM58K"
      },
      "execution_count": 6,
      "outputs": []
    },
    {
      "cell_type": "markdown",
      "source": [
        "### And other funcs"
      ],
      "metadata": {
        "id": "Mkqvn6omPLpG"
      }
    },
    {
      "cell_type": "code",
      "source": [
        "def acc(y, y_hat):\n",
        "  return np.mean(y==y_hat)\n",
        "\n",
        "def minmax_normalize_dataframe(df):\n",
        "    df = df.copy\n",
        "    return (df-df.min())/(df.max()-df.min())\n",
        "\n",
        "def minmax_norm_feature(df, feature):\n",
        "    df = df.copy()\n",
        "    max_value = df[feature].max()\n",
        "    min_value = df[feature].min()\n",
        "    df[feature] = (df[feature] - min_value) / (max_value - min_value)\n",
        "    return df\n",
        "\n",
        "def OLS(Y, Y_hat, N):\n",
        "    return (1/(2^N)*np.sum((Y-Y_hat)**2))\n",
        "\n",
        "def R2(Y, Y_hat):\n",
        "    return (1-(np.sum((Y-Y_hat)**2)/np.sum((Y-np.mean(Y))**2)))\n",
        "\n",
        "def get_geopy(address):\n",
        "    geolocator = nom(user_agent=\"tfClan\")\n",
        "    location = geolocator.geocode(address)\n",
        "    return location\n",
        "\n",
        "def get_coords(address, decimals=6):\n",
        "    geo = get_geopy(address).raw\n",
        "    a = np.array([[float(geo['lon']), float(geo['lat'])]])\n",
        "    return np.round(a, decimals)\n",
        "\n",
        "def split_data(numpy_array, test_size_percentage=0.1):\n",
        "    split_at = math.floor(len(numpy_array)*test_size_percentage)\n",
        "    np.random.shuffle(numpy_array)\n",
        "    test = numpy_array[:split_at,:]\n",
        "    train = numpy_array[split_at:,:]\n",
        "    return train, test\n",
        "\n",
        "def train_test_split(df, train_feats, target_feat, test_size_percentage=0.1, seed=None):\n",
        "    df = df.copy()\n",
        "    ss = np.random.randint(1, 200, size=1) if seed == None else seed\n",
        "    print(ss)\n",
        "    test = df.sample(frac=test_size_percentage, axis=0, random_state=ss)\n",
        "    train = df.drop(index=test.index)\n",
        "\n",
        "    X_train, y_train = train.loc[:, train_feats], train.loc[:, target_feat]\n",
        "    X_test, y_test = test.loc[:, train_feats], test.loc[:, target_feat]\n",
        "    \n",
        "    X_train, y_train = X_train.to_numpy(), y_train.to_numpy().reshape(-1,)\n",
        "    X_test, y_test = X_test.to_numpy(), y_test.to_numpy().reshape(-1,)\n",
        "    return X_train, y_train, X_test, y_test"
      ],
      "metadata": {
        "id": "mNRmO_KUPP5O"
      },
      "execution_count": 7,
      "outputs": []
    },
    {
      "cell_type": "markdown",
      "source": [
        "## From HW1"
      ],
      "metadata": {
        "id": "QlAcu8IcvqqT"
      }
    },
    {
      "cell_type": "code",
      "source": [
        "df = pd.read_csv('/content/raw_house_data.csv')\n",
        "print(df.shape)"
      ],
      "metadata": {
        "colab": {
          "base_uri": "https://localhost:8080/"
        },
        "id": "wM4IVxog-9jo",
        "outputId": "3e2fff42-5a9e-498b-a0df-f1774a2bbdf8"
      },
      "execution_count": 8,
      "outputs": [
        {
          "output_type": "stream",
          "name": "stdout",
          "text": [
            "(5000, 16)\n"
          ]
        }
      ]
    },
    {
      "cell_type": "code",
      "source": [
        "# Remove duplicated rows if they exist\n",
        "df.drop_duplicates()\n",
        "print(df.shape)"
      ],
      "metadata": {
        "colab": {
          "base_uri": "https://localhost:8080/"
        },
        "id": "drqQ9l65tKjX",
        "outputId": "122d8607-552f-48df-d90e-c51aab8276fc"
      },
      "execution_count": 9,
      "outputs": [
        {
          "output_type": "stream",
          "name": "stdout",
          "text": [
            "(5000, 16)\n"
          ]
        }
      ]
    },
    {
      "cell_type": "code",
      "source": [
        "# Convert all 'None' values to nan\n",
        "cols = ['MLS', 'sold_price', 'zipcode', 'lot_acres', 'taxes', 'year_built',\n",
        "       'bedrooms', 'bathrooms', 'sqrt_ft', 'garage', 'kitchen_features',\n",
        "       'fireplaces', 'floor_covering', 'HOA']\n",
        "for i in cols:\n",
        "  df[i].replace('None', np.nan, inplace=True)\n",
        "df.head(3)"
      ],
      "metadata": {
        "colab": {
          "base_uri": "https://localhost:8080/",
          "height": 0
        },
        "id": "WvIlcCZ7W0J_",
        "outputId": "418bc140-a88b-400c-b498-80b65ca98425"
      },
      "execution_count": 10,
      "outputs": [
        {
          "output_type": "execute_result",
          "data": {
            "text/plain": [
              "        MLS  sold_price  zipcode   longitude   latitude  lot_acres     taxes  \\\n",
              "0  21530491   5300000.0    85637 -110.378200  31.356362     2154.0   5272.00   \n",
              "1  21529082   4200000.0    85646 -111.045371  31.594213     1707.0  10422.36   \n",
              "2   3054672   4200000.0    85646 -111.040707  31.594844     1707.0  10482.00   \n",
              "\n",
              "   year_built  bedrooms bathrooms sqrt_ft garage  \\\n",
              "0        1941        13        10   10500      0   \n",
              "1        1997         2         2    7300      0   \n",
              "2        1997         2         3     NaN    NaN   \n",
              "\n",
              "                             kitchen_features  fireplaces  \\\n",
              "0     Dishwasher, Freezer, Refrigerator, Oven         6.0   \n",
              "1                Dishwasher, Garbage Disposal         5.0   \n",
              "2  Dishwasher, Garbage Disposal, Refrigerator         5.0   \n",
              "\n",
              "               floor_covering  HOA  \n",
              "0          Mexican Tile, Wood    0  \n",
              "1        Natural Stone, Other    0  \n",
              "2  Natural Stone, Other: Rock  NaN  "
            ],
            "text/html": [
              "\n",
              "  <div id=\"df-4c0a72f8-3de1-4a75-b062-9ffaea4fcdd0\">\n",
              "    <div class=\"colab-df-container\">\n",
              "      <div>\n",
              "<style scoped>\n",
              "    .dataframe tbody tr th:only-of-type {\n",
              "        vertical-align: middle;\n",
              "    }\n",
              "\n",
              "    .dataframe tbody tr th {\n",
              "        vertical-align: top;\n",
              "    }\n",
              "\n",
              "    .dataframe thead th {\n",
              "        text-align: right;\n",
              "    }\n",
              "</style>\n",
              "<table border=\"1\" class=\"dataframe\">\n",
              "  <thead>\n",
              "    <tr style=\"text-align: right;\">\n",
              "      <th></th>\n",
              "      <th>MLS</th>\n",
              "      <th>sold_price</th>\n",
              "      <th>zipcode</th>\n",
              "      <th>longitude</th>\n",
              "      <th>latitude</th>\n",
              "      <th>lot_acres</th>\n",
              "      <th>taxes</th>\n",
              "      <th>year_built</th>\n",
              "      <th>bedrooms</th>\n",
              "      <th>bathrooms</th>\n",
              "      <th>sqrt_ft</th>\n",
              "      <th>garage</th>\n",
              "      <th>kitchen_features</th>\n",
              "      <th>fireplaces</th>\n",
              "      <th>floor_covering</th>\n",
              "      <th>HOA</th>\n",
              "    </tr>\n",
              "  </thead>\n",
              "  <tbody>\n",
              "    <tr>\n",
              "      <th>0</th>\n",
              "      <td>21530491</td>\n",
              "      <td>5300000.0</td>\n",
              "      <td>85637</td>\n",
              "      <td>-110.378200</td>\n",
              "      <td>31.356362</td>\n",
              "      <td>2154.0</td>\n",
              "      <td>5272.00</td>\n",
              "      <td>1941</td>\n",
              "      <td>13</td>\n",
              "      <td>10</td>\n",
              "      <td>10500</td>\n",
              "      <td>0</td>\n",
              "      <td>Dishwasher, Freezer, Refrigerator, Oven</td>\n",
              "      <td>6.0</td>\n",
              "      <td>Mexican Tile, Wood</td>\n",
              "      <td>0</td>\n",
              "    </tr>\n",
              "    <tr>\n",
              "      <th>1</th>\n",
              "      <td>21529082</td>\n",
              "      <td>4200000.0</td>\n",
              "      <td>85646</td>\n",
              "      <td>-111.045371</td>\n",
              "      <td>31.594213</td>\n",
              "      <td>1707.0</td>\n",
              "      <td>10422.36</td>\n",
              "      <td>1997</td>\n",
              "      <td>2</td>\n",
              "      <td>2</td>\n",
              "      <td>7300</td>\n",
              "      <td>0</td>\n",
              "      <td>Dishwasher, Garbage Disposal</td>\n",
              "      <td>5.0</td>\n",
              "      <td>Natural Stone, Other</td>\n",
              "      <td>0</td>\n",
              "    </tr>\n",
              "    <tr>\n",
              "      <th>2</th>\n",
              "      <td>3054672</td>\n",
              "      <td>4200000.0</td>\n",
              "      <td>85646</td>\n",
              "      <td>-111.040707</td>\n",
              "      <td>31.594844</td>\n",
              "      <td>1707.0</td>\n",
              "      <td>10482.00</td>\n",
              "      <td>1997</td>\n",
              "      <td>2</td>\n",
              "      <td>3</td>\n",
              "      <td>NaN</td>\n",
              "      <td>NaN</td>\n",
              "      <td>Dishwasher, Garbage Disposal, Refrigerator</td>\n",
              "      <td>5.0</td>\n",
              "      <td>Natural Stone, Other: Rock</td>\n",
              "      <td>NaN</td>\n",
              "    </tr>\n",
              "  </tbody>\n",
              "</table>\n",
              "</div>\n",
              "      <button class=\"colab-df-convert\" onclick=\"convertToInteractive('df-4c0a72f8-3de1-4a75-b062-9ffaea4fcdd0')\"\n",
              "              title=\"Convert this dataframe to an interactive table.\"\n",
              "              style=\"display:none;\">\n",
              "        \n",
              "  <svg xmlns=\"http://www.w3.org/2000/svg\" height=\"24px\"viewBox=\"0 0 24 24\"\n",
              "       width=\"24px\">\n",
              "    <path d=\"M0 0h24v24H0V0z\" fill=\"none\"/>\n",
              "    <path d=\"M18.56 5.44l.94 2.06.94-2.06 2.06-.94-2.06-.94-.94-2.06-.94 2.06-2.06.94zm-11 1L8.5 8.5l.94-2.06 2.06-.94-2.06-.94L8.5 2.5l-.94 2.06-2.06.94zm10 10l.94 2.06.94-2.06 2.06-.94-2.06-.94-.94-2.06-.94 2.06-2.06.94z\"/><path d=\"M17.41 7.96l-1.37-1.37c-.4-.4-.92-.59-1.43-.59-.52 0-1.04.2-1.43.59L10.3 9.45l-7.72 7.72c-.78.78-.78 2.05 0 2.83L4 21.41c.39.39.9.59 1.41.59.51 0 1.02-.2 1.41-.59l7.78-7.78 2.81-2.81c.8-.78.8-2.07 0-2.86zM5.41 20L4 18.59l7.72-7.72 1.47 1.35L5.41 20z\"/>\n",
              "  </svg>\n",
              "      </button>\n",
              "      \n",
              "  <style>\n",
              "    .colab-df-container {\n",
              "      display:flex;\n",
              "      flex-wrap:wrap;\n",
              "      gap: 12px;\n",
              "    }\n",
              "\n",
              "    .colab-df-convert {\n",
              "      background-color: #E8F0FE;\n",
              "      border: none;\n",
              "      border-radius: 50%;\n",
              "      cursor: pointer;\n",
              "      display: none;\n",
              "      fill: #1967D2;\n",
              "      height: 32px;\n",
              "      padding: 0 0 0 0;\n",
              "      width: 32px;\n",
              "    }\n",
              "\n",
              "    .colab-df-convert:hover {\n",
              "      background-color: #E2EBFA;\n",
              "      box-shadow: 0px 1px 2px rgba(60, 64, 67, 0.3), 0px 1px 3px 1px rgba(60, 64, 67, 0.15);\n",
              "      fill: #174EA6;\n",
              "    }\n",
              "\n",
              "    [theme=dark] .colab-df-convert {\n",
              "      background-color: #3B4455;\n",
              "      fill: #D2E3FC;\n",
              "    }\n",
              "\n",
              "    [theme=dark] .colab-df-convert:hover {\n",
              "      background-color: #434B5C;\n",
              "      box-shadow: 0px 1px 3px 1px rgba(0, 0, 0, 0.15);\n",
              "      filter: drop-shadow(0px 1px 2px rgba(0, 0, 0, 0.3));\n",
              "      fill: #FFFFFF;\n",
              "    }\n",
              "  </style>\n",
              "\n",
              "      <script>\n",
              "        const buttonEl =\n",
              "          document.querySelector('#df-4c0a72f8-3de1-4a75-b062-9ffaea4fcdd0 button.colab-df-convert');\n",
              "        buttonEl.style.display =\n",
              "          google.colab.kernel.accessAllowed ? 'block' : 'none';\n",
              "\n",
              "        async function convertToInteractive(key) {\n",
              "          const element = document.querySelector('#df-4c0a72f8-3de1-4a75-b062-9ffaea4fcdd0');\n",
              "          const dataTable =\n",
              "            await google.colab.kernel.invokeFunction('convertToInteractive',\n",
              "                                                     [key], {});\n",
              "          if (!dataTable) return;\n",
              "\n",
              "          const docLinkHtml = 'Like what you see? Visit the ' +\n",
              "            '<a target=\"_blank\" href=https://colab.research.google.com/notebooks/data_table.ipynb>data table notebook</a>'\n",
              "            + ' to learn more about interactive tables.';\n",
              "          element.innerHTML = '';\n",
              "          dataTable['output_type'] = 'display_data';\n",
              "          await google.colab.output.renderOutput(dataTable, element);\n",
              "          const docLink = document.createElement('div');\n",
              "          docLink.innerHTML = docLinkHtml;\n",
              "          element.appendChild(docLink);\n",
              "        }\n",
              "      </script>\n",
              "    </div>\n",
              "  </div>\n",
              "  "
            ]
          },
          "metadata": {},
          "execution_count": 10
        }
      ]
    },
    {
      "cell_type": "markdown",
      "source": [
        "ASSUMPTION: I am assuming nan values for ['HOA', 'fireplaces', 'garage'] denotes that the property doesnt have the corresponding item. I am therefore converting those nan values to 0 to represent my assumption. "
      ],
      "metadata": {
        "id": "-X3f1j9cZf8x"
      }
    },
    {
      "cell_type": "code",
      "source": [
        "# With that assumption, I will change those nan values to 0\n",
        "cols_nan_to_0 = ['HOA', 'fireplaces', 'garage', 'lot_acres']\n",
        "for i in cols_nan_to_0:\n",
        "  df[i].replace(np.nan, 0, inplace=True)"
      ],
      "metadata": {
        "id": "OYGp4GwXYJbZ"
      },
      "execution_count": 11,
      "outputs": []
    },
    {
      "cell_type": "code",
      "source": [
        "# With that assumption, I will change those nan values to None\n",
        "cols_nan_to_none = ['kitchen_features', 'floor_covering']\n",
        "for i in cols_nan_to_none:\n",
        "  df[i].replace(np.nan, None, inplace=True)"
      ],
      "metadata": {
        "id": "UiaaHiIAtYTC"
      },
      "execution_count": 12,
      "outputs": []
    },
    {
      "cell_type": "code",
      "source": [
        "(df.isnull().sum().sum())/5000"
      ],
      "metadata": {
        "colab": {
          "base_uri": "https://localhost:8080/"
        },
        "id": "4JszRqinZcU2",
        "outputId": "65d5095b-5dee-4287-a609-9ecc09a9b581"
      },
      "execution_count": 13,
      "outputs": [
        {
          "output_type": "execute_result",
          "data": {
            "text/plain": [
              "0.0124"
            ]
          },
          "metadata": {},
          "execution_count": 13
        }
      ]
    },
    {
      "cell_type": "markdown",
      "source": [
        "Only 2% of the data contains missing values at this point. Being that it is less than 5% of the total data, I think it is safe to remove them. "
      ],
      "metadata": {
        "id": "o3Yc9wCXcNWW"
      }
    },
    {
      "cell_type": "code",
      "source": [
        "df = df.dropna()\n",
        "df.shape"
      ],
      "metadata": {
        "colab": {
          "base_uri": "https://localhost:8080/"
        },
        "id": "_fhODQQhcEDT",
        "outputId": "e696d036-4748-46b3-e4c6-915b591da8a7"
      },
      "execution_count": 14,
      "outputs": [
        {
          "output_type": "execute_result",
          "data": {
            "text/plain": [
              "(4944, 16)"
            ]
          },
          "metadata": {},
          "execution_count": 14
        }
      ]
    },
    {
      "cell_type": "code",
      "source": [
        "df.dtypes"
      ],
      "metadata": {
        "colab": {
          "base_uri": "https://localhost:8080/"
        },
        "id": "PNB_8dvo3DQO",
        "outputId": "3360e589-500f-4f5f-dab3-a17c74a7f6ef"
      },
      "execution_count": 15,
      "outputs": [
        {
          "output_type": "execute_result",
          "data": {
            "text/plain": [
              "MLS                   int64\n",
              "sold_price          float64\n",
              "zipcode               int64\n",
              "longitude           float64\n",
              "latitude            float64\n",
              "lot_acres           float64\n",
              "taxes               float64\n",
              "year_built            int64\n",
              "bedrooms              int64\n",
              "bathrooms            object\n",
              "sqrt_ft              object\n",
              "garage               object\n",
              "kitchen_features     object\n",
              "fireplaces          float64\n",
              "floor_covering       object\n",
              "HOA                  object\n",
              "dtype: object"
            ]
          },
          "metadata": {},
          "execution_count": 15
        }
      ]
    },
    {
      "cell_type": "code",
      "source": [
        "# Converting the object types to a numerical type\n",
        "df.bathrooms = df.bathrooms.astype(float)\n",
        "df.sqrt_ft = df.sqrt_ft.astype(float)\n",
        "df.garage = df.garage.astype(float).astype(int)\n",
        "df.fireplaces = df.fireplaces.astype(int)\n",
        "df.HOA = df.HOA.replace(',','', regex=True)\n",
        "df.HOA = df.HOA.astype(float)\n",
        "df.dtypes"
      ],
      "metadata": {
        "id": "_65sgXledUf9",
        "colab": {
          "base_uri": "https://localhost:8080/"
        },
        "outputId": "9ad3d4c8-b6f2-47f3-fc70-d41fbd30a00d"
      },
      "execution_count": 16,
      "outputs": [
        {
          "output_type": "stream",
          "name": "stderr",
          "text": [
            "/usr/local/lib/python3.7/dist-packages/pandas/core/generic.py:5516: SettingWithCopyWarning: \n",
            "A value is trying to be set on a copy of a slice from a DataFrame.\n",
            "Try using .loc[row_indexer,col_indexer] = value instead\n",
            "\n",
            "See the caveats in the documentation: https://pandas.pydata.org/pandas-docs/stable/user_guide/indexing.html#returning-a-view-versus-a-copy\n",
            "  self[name] = value\n"
          ]
        },
        {
          "output_type": "execute_result",
          "data": {
            "text/plain": [
              "MLS                   int64\n",
              "sold_price          float64\n",
              "zipcode               int64\n",
              "longitude           float64\n",
              "latitude            float64\n",
              "lot_acres           float64\n",
              "taxes               float64\n",
              "year_built            int64\n",
              "bedrooms              int64\n",
              "bathrooms           float64\n",
              "sqrt_ft             float64\n",
              "garage                int64\n",
              "kitchen_features     object\n",
              "fireplaces            int64\n",
              "floor_covering       object\n",
              "HOA                 float64\n",
              "dtype: object"
            ]
          },
          "metadata": {},
          "execution_count": 16
        }
      ]
    },
    {
      "cell_type": "markdown",
      "source": [
        "Now that the dtypes have been dealth with I will create another dataframe to start cleaning another aspect of the data."
      ],
      "metadata": {
        "id": "HKNxMQwtiQfG"
      }
    },
    {
      "cell_type": "code",
      "source": [
        "# kitchen_items = set([])\n",
        "# for i in df2['kitchen_features'].unique():\n",
        "#   for item in i.split(','):\n",
        "#     kitchen_items.add(item.strip(' '))\n",
        "# kitchen_items = sorted(kitchen_items)\n",
        "# for i in kitchen_items:\n",
        "#   print(i)"
      ],
      "metadata": {
        "id": "YeWgqC9PnfkL"
      },
      "execution_count": 17,
      "outputs": []
    },
    {
      "cell_type": "markdown",
      "source": [
        "After seeing how dirty the 'kitchen_features' data is I decided to remove it until further notice. I think it can be processed and added to the dataset using a one-hot-encoding style in the future, but until I develope a method for doing so I believe it is better to leave it out of the dataset. "
      ],
      "metadata": {
        "id": "Os_sWJjYpc3D"
      }
    },
    {
      "cell_type": "code",
      "source": [
        "# df3 = df2.drop(['kitchen_features'], axis=1)\n",
        "# print(df3.shape)\n",
        "# df3.head(3)"
      ],
      "metadata": {
        "id": "vzplEUa3nodM"
      },
      "execution_count": 18,
      "outputs": []
    },
    {
      "cell_type": "code",
      "source": [
        "# floor_items = set([])\n",
        "# for i in df3['floor_covering'].unique():\n",
        "#   for item in i.split(','):\n",
        "#     floor_items.add(item.strip(' '))\n",
        "# floor_items = sorted(floor_items)\n",
        "# for i in floor_items:\n",
        "#   print(i)"
      ],
      "metadata": {
        "id": "D4P3_9ARqfhT"
      },
      "execution_count": 19,
      "outputs": []
    },
    {
      "cell_type": "markdown",
      "source": [
        "I am removing floor_coverings for the same reason I removed kitchen_items"
      ],
      "metadata": {
        "id": "x3Xmvi1YrY5B"
      }
    },
    {
      "cell_type": "code",
      "source": [
        "# df3 = df3.drop(['floor_covering'], axis=1)\n",
        "# print(df3.shape)\n",
        "# df3.head(3)"
      ],
      "metadata": {
        "id": "FvAZEcRWrPq5"
      },
      "execution_count": 20,
      "outputs": []
    },
    {
      "cell_type": "markdown",
      "source": [
        "I believe the important information in the HOA column is whether a property does or doesn't have an attached HOA, so I one-hot-encoded the HOA column to represent that. I think this is a better representation because some area's will naturally have a higher population, thus a larger HOA, and that could skew the results."
      ],
      "metadata": {
        "id": "z2YI9e1Ew84B"
      }
    },
    {
      "cell_type": "code",
      "source": [
        "df.HOA = df.HOA.apply(lambda x: 1 if x > 0.0 else 0)\n",
        "df.HOA.unique()"
      ],
      "metadata": {
        "colab": {
          "base_uri": "https://localhost:8080/"
        },
        "id": "osbssF91vj8L",
        "outputId": "45f551b5-2ec3-4040-b92c-aebb82a076e8"
      },
      "execution_count": 21,
      "outputs": [
        {
          "output_type": "execute_result",
          "data": {
            "text/plain": [
              "array([0, 1])"
            ]
          },
          "metadata": {},
          "execution_count": 21
        }
      ]
    },
    {
      "cell_type": "markdown",
      "source": [
        "I am creating two columns ['price_per_sqft', 'price_per_acre'] because I believe they will be good price estimators. Before I can do that I will check & remove rows where either of those columns are 0 as long as I don't end up removing more than 5% of the original data. "
      ],
      "metadata": {
        "id": "t42-_QDZuHHX"
      }
    },
    {
      "cell_type": "code",
      "source": [
        "# print(df[df['lot_acres'].apply(lambda x: x == 0.0)].shape)\n",
        "print(df[df['sqrt_ft'].apply(lambda x: x == 0.0)].shape)"
      ],
      "metadata": {
        "colab": {
          "base_uri": "https://localhost:8080/"
        },
        "id": "NnK-8T-JgZnY",
        "outputId": "88af4bf8-e6f1-4c21-c9f5-ef22e62d5577"
      },
      "execution_count": 22,
      "outputs": [
        {
          "output_type": "stream",
          "name": "stdout",
          "text": [
            "(0, 16)\n"
          ]
        }
      ]
    },
    {
      "cell_type": "code",
      "source": [
        "df = df[~df['sqrt_ft'].apply(lambda x: x == 0.0)]"
      ],
      "metadata": {
        "id": "FmS2SyV3hf9R"
      },
      "execution_count": 23,
      "outputs": []
    },
    {
      "cell_type": "markdown",
      "source": [
        "Since it was only 35 rows I know I can remove them without going over my 5% limit. In total, I removed a little less than 3% of the data. "
      ],
      "metadata": {
        "id": "yuh7bKNxg2i9"
      }
    },
    {
      "cell_type": "code",
      "source": [
        "df['pp_sqft'] = round(df['sold_price']/df['sqrt_ft'], 2)\n",
        "df = df.drop(\"MLS\", axis=1)\n",
        "df.head()"
      ],
      "metadata": {
        "colab": {
          "base_uri": "https://localhost:8080/",
          "height": 0
        },
        "id": "nzaEZJbIr1jO",
        "outputId": "328139b8-914a-4d14-b0c5-140d83db9596"
      },
      "execution_count": 24,
      "outputs": [
        {
          "output_type": "execute_result",
          "data": {
            "text/plain": [
              "   sold_price  zipcode   longitude   latitude  lot_acres     taxes  \\\n",
              "0   5300000.0    85637 -110.378200  31.356362    2154.00   5272.00   \n",
              "1   4200000.0    85646 -111.045371  31.594213    1707.00  10422.36   \n",
              "3   4500000.0    85646 -111.035925  31.645878     636.67   8418.58   \n",
              "4   3411450.0    85750 -110.813768  32.285162       3.21  15393.00   \n",
              "5   3250000.0    85718 -110.910593  32.339090       1.67  27802.84   \n",
              "\n",
              "   year_built  bedrooms  bathrooms  sqrt_ft  garage  \\\n",
              "0        1941        13       10.0  10500.0       0   \n",
              "1        1997         2        2.0   7300.0       0   \n",
              "3        1930         7        5.0   9019.0       4   \n",
              "4        1995         4        6.0   6396.0       3   \n",
              "5        1999         3        4.0   6842.0       3   \n",
              "\n",
              "                                    kitchen_features  fireplaces  \\\n",
              "0            Dishwasher, Freezer, Refrigerator, Oven           6   \n",
              "1                       Dishwasher, Garbage Disposal           5   \n",
              "3  Dishwasher, Double Sink, Pantry: Butler, Refri...           4   \n",
              "4  Dishwasher, Garbage Disposal, Refrigerator, Mi...           5   \n",
              "5  Dishwasher, Garbage Disposal, Refrigerator, Mi...           5   \n",
              "\n",
              "                 floor_covering  HOA  pp_sqft  \n",
              "0            Mexican Tile, Wood    0   504.76  \n",
              "1          Natural Stone, Other    0   575.34  \n",
              "3  Ceramic Tile, Laminate, Wood    0   498.95  \n",
              "4              Carpet, Concrete    1   533.37  \n",
              "5    Natural Stone, Wood, Other    1   475.01  "
            ],
            "text/html": [
              "\n",
              "  <div id=\"df-4540d4f1-8df3-40f4-a7f3-974e81992156\">\n",
              "    <div class=\"colab-df-container\">\n",
              "      <div>\n",
              "<style scoped>\n",
              "    .dataframe tbody tr th:only-of-type {\n",
              "        vertical-align: middle;\n",
              "    }\n",
              "\n",
              "    .dataframe tbody tr th {\n",
              "        vertical-align: top;\n",
              "    }\n",
              "\n",
              "    .dataframe thead th {\n",
              "        text-align: right;\n",
              "    }\n",
              "</style>\n",
              "<table border=\"1\" class=\"dataframe\">\n",
              "  <thead>\n",
              "    <tr style=\"text-align: right;\">\n",
              "      <th></th>\n",
              "      <th>sold_price</th>\n",
              "      <th>zipcode</th>\n",
              "      <th>longitude</th>\n",
              "      <th>latitude</th>\n",
              "      <th>lot_acres</th>\n",
              "      <th>taxes</th>\n",
              "      <th>year_built</th>\n",
              "      <th>bedrooms</th>\n",
              "      <th>bathrooms</th>\n",
              "      <th>sqrt_ft</th>\n",
              "      <th>garage</th>\n",
              "      <th>kitchen_features</th>\n",
              "      <th>fireplaces</th>\n",
              "      <th>floor_covering</th>\n",
              "      <th>HOA</th>\n",
              "      <th>pp_sqft</th>\n",
              "    </tr>\n",
              "  </thead>\n",
              "  <tbody>\n",
              "    <tr>\n",
              "      <th>0</th>\n",
              "      <td>5300000.0</td>\n",
              "      <td>85637</td>\n",
              "      <td>-110.378200</td>\n",
              "      <td>31.356362</td>\n",
              "      <td>2154.00</td>\n",
              "      <td>5272.00</td>\n",
              "      <td>1941</td>\n",
              "      <td>13</td>\n",
              "      <td>10.0</td>\n",
              "      <td>10500.0</td>\n",
              "      <td>0</td>\n",
              "      <td>Dishwasher, Freezer, Refrigerator, Oven</td>\n",
              "      <td>6</td>\n",
              "      <td>Mexican Tile, Wood</td>\n",
              "      <td>0</td>\n",
              "      <td>504.76</td>\n",
              "    </tr>\n",
              "    <tr>\n",
              "      <th>1</th>\n",
              "      <td>4200000.0</td>\n",
              "      <td>85646</td>\n",
              "      <td>-111.045371</td>\n",
              "      <td>31.594213</td>\n",
              "      <td>1707.00</td>\n",
              "      <td>10422.36</td>\n",
              "      <td>1997</td>\n",
              "      <td>2</td>\n",
              "      <td>2.0</td>\n",
              "      <td>7300.0</td>\n",
              "      <td>0</td>\n",
              "      <td>Dishwasher, Garbage Disposal</td>\n",
              "      <td>5</td>\n",
              "      <td>Natural Stone, Other</td>\n",
              "      <td>0</td>\n",
              "      <td>575.34</td>\n",
              "    </tr>\n",
              "    <tr>\n",
              "      <th>3</th>\n",
              "      <td>4500000.0</td>\n",
              "      <td>85646</td>\n",
              "      <td>-111.035925</td>\n",
              "      <td>31.645878</td>\n",
              "      <td>636.67</td>\n",
              "      <td>8418.58</td>\n",
              "      <td>1930</td>\n",
              "      <td>7</td>\n",
              "      <td>5.0</td>\n",
              "      <td>9019.0</td>\n",
              "      <td>4</td>\n",
              "      <td>Dishwasher, Double Sink, Pantry: Butler, Refri...</td>\n",
              "      <td>4</td>\n",
              "      <td>Ceramic Tile, Laminate, Wood</td>\n",
              "      <td>0</td>\n",
              "      <td>498.95</td>\n",
              "    </tr>\n",
              "    <tr>\n",
              "      <th>4</th>\n",
              "      <td>3411450.0</td>\n",
              "      <td>85750</td>\n",
              "      <td>-110.813768</td>\n",
              "      <td>32.285162</td>\n",
              "      <td>3.21</td>\n",
              "      <td>15393.00</td>\n",
              "      <td>1995</td>\n",
              "      <td>4</td>\n",
              "      <td>6.0</td>\n",
              "      <td>6396.0</td>\n",
              "      <td>3</td>\n",
              "      <td>Dishwasher, Garbage Disposal, Refrigerator, Mi...</td>\n",
              "      <td>5</td>\n",
              "      <td>Carpet, Concrete</td>\n",
              "      <td>1</td>\n",
              "      <td>533.37</td>\n",
              "    </tr>\n",
              "    <tr>\n",
              "      <th>5</th>\n",
              "      <td>3250000.0</td>\n",
              "      <td>85718</td>\n",
              "      <td>-110.910593</td>\n",
              "      <td>32.339090</td>\n",
              "      <td>1.67</td>\n",
              "      <td>27802.84</td>\n",
              "      <td>1999</td>\n",
              "      <td>3</td>\n",
              "      <td>4.0</td>\n",
              "      <td>6842.0</td>\n",
              "      <td>3</td>\n",
              "      <td>Dishwasher, Garbage Disposal, Refrigerator, Mi...</td>\n",
              "      <td>5</td>\n",
              "      <td>Natural Stone, Wood, Other</td>\n",
              "      <td>1</td>\n",
              "      <td>475.01</td>\n",
              "    </tr>\n",
              "  </tbody>\n",
              "</table>\n",
              "</div>\n",
              "      <button class=\"colab-df-convert\" onclick=\"convertToInteractive('df-4540d4f1-8df3-40f4-a7f3-974e81992156')\"\n",
              "              title=\"Convert this dataframe to an interactive table.\"\n",
              "              style=\"display:none;\">\n",
              "        \n",
              "  <svg xmlns=\"http://www.w3.org/2000/svg\" height=\"24px\"viewBox=\"0 0 24 24\"\n",
              "       width=\"24px\">\n",
              "    <path d=\"M0 0h24v24H0V0z\" fill=\"none\"/>\n",
              "    <path d=\"M18.56 5.44l.94 2.06.94-2.06 2.06-.94-2.06-.94-.94-2.06-.94 2.06-2.06.94zm-11 1L8.5 8.5l.94-2.06 2.06-.94-2.06-.94L8.5 2.5l-.94 2.06-2.06.94zm10 10l.94 2.06.94-2.06 2.06-.94-2.06-.94-.94-2.06-.94 2.06-2.06.94z\"/><path d=\"M17.41 7.96l-1.37-1.37c-.4-.4-.92-.59-1.43-.59-.52 0-1.04.2-1.43.59L10.3 9.45l-7.72 7.72c-.78.78-.78 2.05 0 2.83L4 21.41c.39.39.9.59 1.41.59.51 0 1.02-.2 1.41-.59l7.78-7.78 2.81-2.81c.8-.78.8-2.07 0-2.86zM5.41 20L4 18.59l7.72-7.72 1.47 1.35L5.41 20z\"/>\n",
              "  </svg>\n",
              "      </button>\n",
              "      \n",
              "  <style>\n",
              "    .colab-df-container {\n",
              "      display:flex;\n",
              "      flex-wrap:wrap;\n",
              "      gap: 12px;\n",
              "    }\n",
              "\n",
              "    .colab-df-convert {\n",
              "      background-color: #E8F0FE;\n",
              "      border: none;\n",
              "      border-radius: 50%;\n",
              "      cursor: pointer;\n",
              "      display: none;\n",
              "      fill: #1967D2;\n",
              "      height: 32px;\n",
              "      padding: 0 0 0 0;\n",
              "      width: 32px;\n",
              "    }\n",
              "\n",
              "    .colab-df-convert:hover {\n",
              "      background-color: #E2EBFA;\n",
              "      box-shadow: 0px 1px 2px rgba(60, 64, 67, 0.3), 0px 1px 3px 1px rgba(60, 64, 67, 0.15);\n",
              "      fill: #174EA6;\n",
              "    }\n",
              "\n",
              "    [theme=dark] .colab-df-convert {\n",
              "      background-color: #3B4455;\n",
              "      fill: #D2E3FC;\n",
              "    }\n",
              "\n",
              "    [theme=dark] .colab-df-convert:hover {\n",
              "      background-color: #434B5C;\n",
              "      box-shadow: 0px 1px 3px 1px rgba(0, 0, 0, 0.15);\n",
              "      filter: drop-shadow(0px 1px 2px rgba(0, 0, 0, 0.3));\n",
              "      fill: #FFFFFF;\n",
              "    }\n",
              "  </style>\n",
              "\n",
              "      <script>\n",
              "        const buttonEl =\n",
              "          document.querySelector('#df-4540d4f1-8df3-40f4-a7f3-974e81992156 button.colab-df-convert');\n",
              "        buttonEl.style.display =\n",
              "          google.colab.kernel.accessAllowed ? 'block' : 'none';\n",
              "\n",
              "        async function convertToInteractive(key) {\n",
              "          const element = document.querySelector('#df-4540d4f1-8df3-40f4-a7f3-974e81992156');\n",
              "          const dataTable =\n",
              "            await google.colab.kernel.invokeFunction('convertToInteractive',\n",
              "                                                     [key], {});\n",
              "          if (!dataTable) return;\n",
              "\n",
              "          const docLinkHtml = 'Like what you see? Visit the ' +\n",
              "            '<a target=\"_blank\" href=https://colab.research.google.com/notebooks/data_table.ipynb>data table notebook</a>'\n",
              "            + ' to learn more about interactive tables.';\n",
              "          element.innerHTML = '';\n",
              "          dataTable['output_type'] = 'display_data';\n",
              "          await google.colab.output.renderOutput(dataTable, element);\n",
              "          const docLink = document.createElement('div');\n",
              "          docLink.innerHTML = docLinkHtml;\n",
              "          element.appendChild(docLink);\n",
              "        }\n",
              "      </script>\n",
              "    </div>\n",
              "  </div>\n",
              "  "
            ]
          },
          "metadata": {},
          "execution_count": 24
        }
      ]
    },
    {
      "cell_type": "markdown",
      "source": [
        "## HW2 Start"
      ],
      "metadata": {
        "id": "YmhqhAEAvuGC"
      }
    },
    {
      "cell_type": "markdown",
      "source": [
        "### More cleaning"
      ],
      "metadata": {
        "id": "sctCVhNQqzEs"
      }
    },
    {
      "cell_type": "code",
      "source": [
        "plt.figure(figsize=(12,12))\n",
        "sns.heatmap(df.corr().round(2), annot=True)"
      ],
      "metadata": {
        "colab": {
          "base_uri": "https://localhost:8080/",
          "height": 765
        },
        "id": "X4C6Y1FFlu4a",
        "outputId": "a899fe22-0eb3-4140-d7fe-e3a8b07526da"
      },
      "execution_count": 25,
      "outputs": [
        {
          "output_type": "execute_result",
          "data": {
            "text/plain": [
              "<matplotlib.axes._subplots.AxesSubplot at 0x7f6193c80a50>"
            ]
          },
          "metadata": {},
          "execution_count": 25
        },
        {
          "output_type": "display_data",
          "data": {
            "text/plain": [
              "<Figure size 864x864 with 2 Axes>"
            ],
            "image/png": "[encoded data removed]"
          },
          "metadata": {
            "needs_background": "light"
          }
        }
      ]
    },
    {
      "cell_type": "markdown",
      "source": [
        "#### Outlier removals"
      ],
      "metadata": {
        "id": "4zQcVL7dq1XV"
      }
    },
    {
      "cell_type": "code",
      "source": [
        "def charts(frame, col, cut_off):\n",
        "    fig, ((ax1, ax2), (ax3, ax4)) = plt.subplots(2,2, figsize=(12,8))\n",
        "    ax1.hist(df[col])\n",
        "    sns.boxplot(x=df[col], ax=ax2)\n",
        "\n",
        "    ax3.hist(df[df[col]<=cut_off][col])\n",
        "    sns.boxplot(x=df[df[col]<=cut_off][col], ax=ax4)"
      ],
      "metadata": {
        "id": "SWl089y465xm"
      },
      "execution_count": 26,
      "outputs": []
    },
    {
      "cell_type": "code",
      "source": [
        "df.columns"
      ],
      "metadata": {
        "colab": {
          "base_uri": "https://localhost:8080/"
        },
        "id": "lHlFY5ztXWhK",
        "outputId": "a8028f88-4aaa-4171-dd1f-84210990bebd"
      },
      "execution_count": 27,
      "outputs": [
        {
          "output_type": "execute_result",
          "data": {
            "text/plain": [
              "Index(['sold_price', 'zipcode', 'longitude', 'latitude', 'lot_acres', 'taxes',\n",
              "       'year_built', 'bedrooms', 'bathrooms', 'sqrt_ft', 'garage',\n",
              "       'kitchen_features', 'fireplaces', 'floor_covering', 'HOA', 'pp_sqft'],\n",
              "      dtype='object')"
            ]
          },
          "metadata": {},
          "execution_count": 27
        }
      ]
    },
    {
      "cell_type": "code",
      "source": [
        "df.describe(include=[np.number])"
      ],
      "metadata": {
        "colab": {
          "base_uri": "https://localhost:8080/",
          "height": 364
        },
        "id": "TzfLMNiwq4NC",
        "outputId": "a98e3ea5-5b4c-46a6-f8b9-ce351f9aba27"
      },
      "execution_count": 28,
      "outputs": [
        {
          "output_type": "execute_result",
          "data": {
            "text/plain": [
              "         sold_price       zipcode    longitude     latitude    lot_acres  \\\n",
              "count  4.944000e+03   4944.000000  4944.000000  4944.000000  4944.000000   \n",
              "mean   7.757358e+05  85724.128236  -110.910942    32.314540     4.270884   \n",
              "std    3.160465e+05     36.803079     0.120604     0.169380    45.851750   \n",
              "min    1.690000e+05  85118.000000  -112.520168    31.356362     0.000000   \n",
              "25%    5.850000e+05  85718.000000  -110.978590    32.280278     0.580000   \n",
              "50%    6.790000e+05  85737.000000  -110.922462    32.319136     0.980000   \n",
              "75%    8.400000e+05  85750.000000  -110.858578    32.396124     1.740000   \n",
              "max    5.300000e+06  86323.000000  -109.454637    34.927884  2154.000000   \n",
              "\n",
              "              taxes   year_built     bedrooms    bathrooms       sqrt_ft  \\\n",
              "count  4.944000e+03  4944.000000  4944.000000  4944.000000   4944.000000   \n",
              "mean   9.444989e+03  1992.259506     3.935477     3.824939   3716.366828   \n",
              "std    1.739144e+05    65.830904     1.160795     1.318048   1120.683515   \n",
              "min    0.000000e+00     0.000000     1.000000     1.000000   1100.000000   \n",
              "25%    4.819410e+03  1987.000000     3.000000     3.000000   3047.000000   \n",
              "50%    6.248770e+03  1999.000000     4.000000     4.000000   3512.000000   \n",
              "75%    8.106153e+03  2006.000000     4.000000     4.000000   4130.250000   \n",
              "max    1.221508e+07  2019.000000    36.000000    36.000000  22408.000000   \n",
              "\n",
              "            garage   fireplaces          HOA      pp_sqft  \n",
              "count  4944.000000  4944.000000  4944.000000  4944.000000  \n",
              "mean      2.806837     1.883495     0.723301   212.527221  \n",
              "std       1.200557     1.135463     0.447412    66.730359  \n",
              "min       0.000000     0.000000     0.000000    24.540000  \n",
              "25%       2.000000     1.000000     0.000000   175.500000  \n",
              "50%       3.000000     2.000000     1.000000   202.595000  \n",
              "75%       3.000000     3.000000     1.000000   234.100000  \n",
              "max      30.000000     9.000000     1.000000  1208.330000  "
            ],
            "text/html": [
              "\n",
              "  <div id=\"df-479f67d4-81a2-4b65-89e0-f6b7f04e312d\">\n",
              "    <div class=\"colab-df-container\">\n",
              "      <div>\n",
              "<style scoped>\n",
              "    .dataframe tbody tr th:only-of-type {\n",
              "        vertical-align: middle;\n",
              "    }\n",
              "\n",
              "    .dataframe tbody tr th {\n",
              "        vertical-align: top;\n",
              "    }\n",
              "\n",
              "    .dataframe thead th {\n",
              "        text-align: right;\n",
              "    }\n",
              "</style>\n",
              "<table border=\"1\" class=\"dataframe\">\n",
              "  <thead>\n",
              "    <tr style=\"text-align: right;\">\n",
              "      <th></th>\n",
              "      <th>sold_price</th>\n",
              "      <th>zipcode</th>\n",
              "      <th>longitude</th>\n",
              "      <th>latitude</th>\n",
              "      <th>lot_acres</th>\n",
              "      <th>taxes</th>\n",
              "      <th>year_built</th>\n",
              "      <th>bedrooms</th>\n",
              "      <th>bathrooms</th>\n",
              "      <th>sqrt_ft</th>\n",
              "      <th>garage</th>\n",
              "      <th>fireplaces</th>\n",
              "      <th>HOA</th>\n",
              "      <th>pp_sqft</th>\n",
              "    </tr>\n",
              "  </thead>\n",
              "  <tbody>\n",
              "    <tr>\n",
              "      <th>count</th>\n",
              "      <td>4.944000e+03</td>\n",
              "      <td>4944.000000</td>\n",
              "      <td>4944.000000</td>\n",
              "      <td>4944.000000</td>\n",
              "      <td>4944.000000</td>\n",
              "      <td>4.944000e+03</td>\n",
              "      <td>4944.000000</td>\n",
              "      <td>4944.000000</td>\n",
              "      <td>4944.000000</td>\n",
              "      <td>4944.000000</td>\n",
              "      <td>4944.000000</td>\n",
              "      <td>4944.000000</td>\n",
              "      <td>4944.000000</td>\n",
              "      <td>4944.000000</td>\n",
              "    </tr>\n",
              "    <tr>\n",
              "      <th>mean</th>\n",
              "      <td>7.757358e+05</td>\n",
              "      <td>85724.128236</td>\n",
              "      <td>-110.910942</td>\n",
              "      <td>32.314540</td>\n",
              "      <td>4.270884</td>\n",
              "      <td>9.444989e+03</td>\n",
              "      <td>1992.259506</td>\n",
              "      <td>3.935477</td>\n",
              "      <td>3.824939</td>\n",
              "      <td>3716.366828</td>\n",
              "      <td>2.806837</td>\n",
              "      <td>1.883495</td>\n",
              "      <td>0.723301</td>\n",
              "      <td>212.527221</td>\n",
              "    </tr>\n",
              "    <tr>\n",
              "      <th>std</th>\n",
              "      <td>3.160465e+05</td>\n",
              "      <td>36.803079</td>\n",
              "      <td>0.120604</td>\n",
              "      <td>0.169380</td>\n",
              "      <td>45.851750</td>\n",
              "      <td>1.739144e+05</td>\n",
              "      <td>65.830904</td>\n",
              "      <td>1.160795</td>\n",
              "      <td>1.318048</td>\n",
              "      <td>1120.683515</td>\n",
              "      <td>1.200557</td>\n",
              "      <td>1.135463</td>\n",
              "      <td>0.447412</td>\n",
              "      <td>66.730359</td>\n",
              "    </tr>\n",
              "    <tr>\n",
              "      <th>min</th>\n",
              "      <td>1.690000e+05</td>\n",
              "      <td>85118.000000</td>\n",
              "      <td>-112.520168</td>\n",
              "      <td>31.356362</td>\n",
              "      <td>0.000000</td>\n",
              "      <td>0.000000e+00</td>\n",
              "      <td>0.000000</td>\n",
              "      <td>1.000000</td>\n",
              "      <td>1.000000</td>\n",
              "      <td>1100.000000</td>\n",
              "      <td>0.000000</td>\n",
              "      <td>0.000000</td>\n",
              "      <td>0.000000</td>\n",
              "      <td>24.540000</td>\n",
              "    </tr>\n",
              "    <tr>\n",
              "      <th>25%</th>\n",
              "      <td>5.850000e+05</td>\n",
              "      <td>85718.000000</td>\n",
              "      <td>-110.978590</td>\n",
              "      <td>32.280278</td>\n",
              "      <td>0.580000</td>\n",
              "      <td>4.819410e+03</td>\n",
              "      <td>1987.000000</td>\n",
              "      <td>3.000000</td>\n",
              "      <td>3.000000</td>\n",
              "      <td>3047.000000</td>\n",
              "      <td>2.000000</td>\n",
              "      <td>1.000000</td>\n",
              "      <td>0.000000</td>\n",
              "      <td>175.500000</td>\n",
              "    </tr>\n",
              "    <tr>\n",
              "      <th>50%</th>\n",
              "      <td>6.790000e+05</td>\n",
              "      <td>85737.000000</td>\n",
              "      <td>-110.922462</td>\n",
              "      <td>32.319136</td>\n",
              "      <td>0.980000</td>\n",
              "      <td>6.248770e+03</td>\n",
              "      <td>1999.000000</td>\n",
              "      <td>4.000000</td>\n",
              "      <td>4.000000</td>\n",
              "      <td>3512.000000</td>\n",
              "      <td>3.000000</td>\n",
              "      <td>2.000000</td>\n",
              "      <td>1.000000</td>\n",
              "      <td>202.595000</td>\n",
              "    </tr>\n",
              "    <tr>\n",
              "      <th>75%</th>\n",
              "      <td>8.400000e+05</td>\n",
              "      <td>85750.000000</td>\n",
              "      <td>-110.858578</td>\n",
              "      <td>32.396124</td>\n",
              "      <td>1.740000</td>\n",
              "      <td>8.106153e+03</td>\n",
              "      <td>2006.000000</td>\n",
              "      <td>4.000000</td>\n",
              "      <td>4.000000</td>\n",
              "      <td>4130.250000</td>\n",
              "      <td>3.000000</td>\n",
              "      <td>3.000000</td>\n",
              "      <td>1.000000</td>\n",
              "      <td>234.100000</td>\n",
              "    </tr>\n",
              "    <tr>\n",
              "      <th>max</th>\n",
              "      <td>5.300000e+06</td>\n",
              "      <td>86323.000000</td>\n",
              "      <td>-109.454637</td>\n",
              "      <td>34.927884</td>\n",
              "      <td>2154.000000</td>\n",
              "      <td>1.221508e+07</td>\n",
              "      <td>2019.000000</td>\n",
              "      <td>36.000000</td>\n",
              "      <td>36.000000</td>\n",
              "      <td>22408.000000</td>\n",
              "      <td>30.000000</td>\n",
              "      <td>9.000000</td>\n",
              "      <td>1.000000</td>\n",
              "      <td>1208.330000</td>\n",
              "    </tr>\n",
              "  </tbody>\n",
              "</table>\n",
              "</div>\n",
              "      <button class=\"colab-df-convert\" onclick=\"convertToInteractive('df-479f67d4-81a2-4b65-89e0-f6b7f04e312d')\"\n",
              "              title=\"Convert this dataframe to an interactive table.\"\n",
              "              style=\"display:none;\">\n",
              "        \n",
              "  <svg xmlns=\"http://www.w3.org/2000/svg\" height=\"24px\"viewBox=\"0 0 24 24\"\n",
              "       width=\"24px\">\n",
              "    <path d=\"M0 0h24v24H0V0z\" fill=\"none\"/>\n",
              "    <path d=\"M18.56 5.44l.94 2.06.94-2.06 2.06-.94-2.06-.94-.94-2.06-.94 2.06-2.06.94zm-11 1L8.5 8.5l.94-2.06 2.06-.94-2.06-.94L8.5 2.5l-.94 2.06-2.06.94zm10 10l.94 2.06.94-2.06 2.06-.94-2.06-.94-.94-2.06-.94 2.06-2.06.94z\"/><path d=\"M17.41 7.96l-1.37-1.37c-.4-.4-.92-.59-1.43-.59-.52 0-1.04.2-1.43.59L10.3 9.45l-7.72 7.72c-.78.78-.78 2.05 0 2.83L4 21.41c.39.39.9.59 1.41.59.51 0 1.02-.2 1.41-.59l7.78-7.78 2.81-2.81c.8-.78.8-2.07 0-2.86zM5.41 20L4 18.59l7.72-7.72 1.47 1.35L5.41 20z\"/>\n",
              "  </svg>\n",
              "      </button>\n",
              "      \n",
              "  <style>\n",
              "    .colab-df-container {\n",
              "      display:flex;\n",
              "      flex-wrap:wrap;\n",
              "      gap: 12px;\n",
              "    }\n",
              "\n",
              "    .colab-df-convert {\n",
              "      background-color: #E8F0FE;\n",
              "      border: none;\n",
              "      border-radius: 50%;\n",
              "      cursor: pointer;\n",
              "      display: none;\n",
              "      fill: #1967D2;\n",
              "      height: 32px;\n",
              "      padding: 0 0 0 0;\n",
              "      width: 32px;\n",
              "    }\n",
              "\n",
              "    .colab-df-convert:hover {\n",
              "      background-color: #E2EBFA;\n",
              "      box-shadow: 0px 1px 2px rgba(60, 64, 67, 0.3), 0px 1px 3px 1px rgba(60, 64, 67, 0.15);\n",
              "      fill: #174EA6;\n",
              "    }\n",
              "\n",
              "    [theme=dark] .colab-df-convert {\n",
              "      background-color: #3B4455;\n",
              "      fill: #D2E3FC;\n",
              "    }\n",
              "\n",
              "    [theme=dark] .colab-df-convert:hover {\n",
              "      background-color: #434B5C;\n",
              "      box-shadow: 0px 1px 3px 1px rgba(0, 0, 0, 0.15);\n",
              "      filter: drop-shadow(0px 1px 2px rgba(0, 0, 0, 0.3));\n",
              "      fill: #FFFFFF;\n",
              "    }\n",
              "  </style>\n",
              "\n",
              "      <script>\n",
              "        const buttonEl =\n",
              "          document.querySelector('#df-479f67d4-81a2-4b65-89e0-f6b7f04e312d button.colab-df-convert');\n",
              "        buttonEl.style.display =\n",
              "          google.colab.kernel.accessAllowed ? 'block' : 'none';\n",
              "\n",
              "        async function convertToInteractive(key) {\n",
              "          const element = document.querySelector('#df-479f67d4-81a2-4b65-89e0-f6b7f04e312d');\n",
              "          const dataTable =\n",
              "            await google.colab.kernel.invokeFunction('convertToInteractive',\n",
              "                                                     [key], {});\n",
              "          if (!dataTable) return;\n",
              "\n",
              "          const docLinkHtml = 'Like what you see? Visit the ' +\n",
              "            '<a target=\"_blank\" href=https://colab.research.google.com/notebooks/data_table.ipynb>data table notebook</a>'\n",
              "            + ' to learn more about interactive tables.';\n",
              "          element.innerHTML = '';\n",
              "          dataTable['output_type'] = 'display_data';\n",
              "          await google.colab.output.renderOutput(dataTable, element);\n",
              "          const docLink = document.createElement('div');\n",
              "          docLink.innerHTML = docLinkHtml;\n",
              "          element.appendChild(docLink);\n",
              "        }\n",
              "      </script>\n",
              "    </div>\n",
              "  </div>\n",
              "  "
            ]
          },
          "metadata": {},
          "execution_count": 28
        }
      ]
    },
    {
      "cell_type": "code",
      "source": [
        "plt.figure()\n",
        "plt.hist(df[df.bathrooms<15].bathrooms)"
      ],
      "metadata": {
        "colab": {
          "base_uri": "https://localhost:8080/",
          "height": 334
        },
        "id": "o0Uiu3Wtundg",
        "outputId": "cd2385d3-7a8b-4c00-98ca-e460eeb3d856"
      },
      "execution_count": 29,
      "outputs": [
        {
          "output_type": "execute_result",
          "data": {
            "text/plain": [
              "(array([1.910e+02, 1.980e+03, 1.823e+03, 8.580e+02, 5.600e+01, 1.900e+01,\n",
              "        9.000e+00, 2.000e+00, 0.000e+00, 1.000e+00]),\n",
              " array([ 1. ,  2.3,  3.6,  4.9,  6.2,  7.5,  8.8, 10.1, 11.4, 12.7, 14. ]),\n",
              " <a list of 10 Patch objects>)"
            ]
          },
          "metadata": {},
          "execution_count": 29
        },
        {
          "output_type": "display_data",
          "data": {
            "text/plain": [
              "<Figure size 432x288 with 1 Axes>"
            ],
            "image/png": "[encoded data removed]"
          },
          "metadata": {
            "needs_background": "light"
          }
        }
      ]
    },
    {
      "cell_type": "code",
      "source": [
        "df[df.bathrooms>=15]"
      ],
      "metadata": {
        "colab": {
          "base_uri": "https://localhost:8080/",
          "height": 444
        },
        "id": "seg7osAXyYTj",
        "outputId": "4cae635f-837f-4228-fc85-e1ab53011c30"
      },
      "execution_count": 30,
      "outputs": [
        {
          "output_type": "execute_result",
          "data": {
            "text/plain": [
              "      sold_price  zipcode   longitude   latitude  lot_acres     taxes  \\\n",
              "35     2495000.0    85637 -110.740635  31.720431     131.00   1220.32   \n",
              "635     895000.0    85749 -110.799667  32.253627      11.57  26110.00   \n",
              "2111    550000.0    85645 -111.047350  31.701117      50.00  25113.45   \n",
              "3277    695000.0    85645 -111.047260  31.701407      50.00   6520.66   \n",
              "4663    575359.5    85641 -110.687945  32.081978       1.07    625.00   \n",
              "\n",
              "      year_built  bedrooms  bathrooms  sqrt_ft  garage  \\\n",
              "35             0        13       15.0  13000.0       0   \n",
              "635         1948        19       18.0  12154.0       0   \n",
              "2111        1936        36       35.0  22408.0       0   \n",
              "3277        1936        36       35.0  21915.0       0   \n",
              "4663        2019         5       36.0   3720.0       3   \n",
              "\n",
              "                                       kitchen_features  fireplaces  \\\n",
              "35    Compactor, Dishwasher, Freezer, Garbage Dispos...           4   \n",
              "635   Dishwasher, Garbage Disposal, Pantry: Walk-In,...           3   \n",
              "2111                             Countertops: Stainless           1   \n",
              "3277                                       Refrigerator           1   \n",
              "4663  Dishwasher, Double Sink, Garbage Disposal, Gas...           1   \n",
              "\n",
              "                                   floor_covering  HOA  pp_sqft  \n",
              "35             Carpet, Ceramic Tile, Mexican Tile    0   191.92  \n",
              "635   Carpet, Mexican Tile, Other: Multiple Types    0    73.64  \n",
              "2111                   Ceramic Tile, Mexican Tile    0    24.54  \n",
              "3277                   Ceramic Tile, Mexican Tile    0    31.71  \n",
              "4663                         Carpet, Ceramic Tile    0   154.67  "
            ],
            "text/html": [
              "\n",
              "  <div id=\"df-e42a3b28-f896-446e-aa02-8b5184016ca2\">\n",
              "    <div class=\"colab-df-container\">\n",
              "      <div>\n",
              "<style scoped>\n",
              "    .dataframe tbody tr th:only-of-type {\n",
              "        vertical-align: middle;\n",
              "    }\n",
              "\n",
              "    .dataframe tbody tr th {\n",
              "        vertical-align: top;\n",
              "    }\n",
              "\n",
              "    .dataframe thead th {\n",
              "        text-align: right;\n",
              "    }\n",
              "</style>\n",
              "<table border=\"1\" class=\"dataframe\">\n",
              "  <thead>\n",
              "    <tr style=\"text-align: right;\">\n",
              "      <th></th>\n",
              "      <th>sold_price</th>\n",
              "      <th>zipcode</th>\n",
              "      <th>longitude</th>\n",
              "      <th>latitude</th>\n",
              "      <th>lot_acres</th>\n",
              "      <th>taxes</th>\n",
              "      <th>year_built</th>\n",
              "      <th>bedrooms</th>\n",
              "      <th>bathrooms</th>\n",
              "      <th>sqrt_ft</th>\n",
              "      <th>garage</th>\n",
              "      <th>kitchen_features</th>\n",
              "      <th>fireplaces</th>\n",
              "      <th>floor_covering</th>\n",
              "      <th>HOA</th>\n",
              "      <th>pp_sqft</th>\n",
              "    </tr>\n",
              "  </thead>\n",
              "  <tbody>\n",
              "    <tr>\n",
              "      <th>35</th>\n",
              "      <td>2495000.0</td>\n",
              "      <td>85637</td>\n",
              "      <td>-110.740635</td>\n",
              "      <td>31.720431</td>\n",
              "      <td>131.00</td>\n",
              "      <td>1220.32</td>\n",
              "      <td>0</td>\n",
              "      <td>13</td>\n",
              "      <td>15.0</td>\n",
              "      <td>13000.0</td>\n",
              "      <td>0</td>\n",
              "      <td>Compactor, Dishwasher, Freezer, Garbage Dispos...</td>\n",
              "      <td>4</td>\n",
              "      <td>Carpet, Ceramic Tile, Mexican Tile</td>\n",
              "      <td>0</td>\n",
              "      <td>191.92</td>\n",
              "    </tr>\n",
              "    <tr>\n",
              "      <th>635</th>\n",
              "      <td>895000.0</td>\n",
              "      <td>85749</td>\n",
              "      <td>-110.799667</td>\n",
              "      <td>32.253627</td>\n",
              "      <td>11.57</td>\n",
              "      <td>26110.00</td>\n",
              "      <td>1948</td>\n",
              "      <td>19</td>\n",
              "      <td>18.0</td>\n",
              "      <td>12154.0</td>\n",
              "      <td>0</td>\n",
              "      <td>Dishwasher, Garbage Disposal, Pantry: Walk-In,...</td>\n",
              "      <td>3</td>\n",
              "      <td>Carpet, Mexican Tile, Other: Multiple Types</td>\n",
              "      <td>0</td>\n",
              "      <td>73.64</td>\n",
              "    </tr>\n",
              "    <tr>\n",
              "      <th>2111</th>\n",
              "      <td>550000.0</td>\n",
              "      <td>85645</td>\n",
              "      <td>-111.047350</td>\n",
              "      <td>31.701117</td>\n",
              "      <td>50.00</td>\n",
              "      <td>25113.45</td>\n",
              "      <td>1936</td>\n",
              "      <td>36</td>\n",
              "      <td>35.0</td>\n",
              "      <td>22408.0</td>\n",
              "      <td>0</td>\n",
              "      <td>Countertops: Stainless</td>\n",
              "      <td>1</td>\n",
              "      <td>Ceramic Tile, Mexican Tile</td>\n",
              "      <td>0</td>\n",
              "      <td>24.54</td>\n",
              "    </tr>\n",
              "    <tr>\n",
              "      <th>3277</th>\n",
              "      <td>695000.0</td>\n",
              "      <td>85645</td>\n",
              "      <td>-111.047260</td>\n",
              "      <td>31.701407</td>\n",
              "      <td>50.00</td>\n",
              "      <td>6520.66</td>\n",
              "      <td>1936</td>\n",
              "      <td>36</td>\n",
              "      <td>35.0</td>\n",
              "      <td>21915.0</td>\n",
              "      <td>0</td>\n",
              "      <td>Refrigerator</td>\n",
              "      <td>1</td>\n",
              "      <td>Ceramic Tile, Mexican Tile</td>\n",
              "      <td>0</td>\n",
              "      <td>31.71</td>\n",
              "    </tr>\n",
              "    <tr>\n",
              "      <th>4663</th>\n",
              "      <td>575359.5</td>\n",
              "      <td>85641</td>\n",
              "      <td>-110.687945</td>\n",
              "      <td>32.081978</td>\n",
              "      <td>1.07</td>\n",
              "      <td>625.00</td>\n",
              "      <td>2019</td>\n",
              "      <td>5</td>\n",
              "      <td>36.0</td>\n",
              "      <td>3720.0</td>\n",
              "      <td>3</td>\n",
              "      <td>Dishwasher, Double Sink, Garbage Disposal, Gas...</td>\n",
              "      <td>1</td>\n",
              "      <td>Carpet, Ceramic Tile</td>\n",
              "      <td>0</td>\n",
              "      <td>154.67</td>\n",
              "    </tr>\n",
              "  </tbody>\n",
              "</table>\n",
              "</div>\n",
              "      <button class=\"colab-df-convert\" onclick=\"convertToInteractive('df-e42a3b28-f896-446e-aa02-8b5184016ca2')\"\n",
              "              title=\"Convert this dataframe to an interactive table.\"\n",
              "              style=\"display:none;\">\n",
              "        \n",
              "  <svg xmlns=\"http://www.w3.org/2000/svg\" height=\"24px\"viewBox=\"0 0 24 24\"\n",
              "       width=\"24px\">\n",
              "    <path d=\"M0 0h24v24H0V0z\" fill=\"none\"/>\n",
              "    <path d=\"M18.56 5.44l.94 2.06.94-2.06 2.06-.94-2.06-.94-.94-2.06-.94 2.06-2.06.94zm-11 1L8.5 8.5l.94-2.06 2.06-.94-2.06-.94L8.5 2.5l-.94 2.06-2.06.94zm10 10l.94 2.06.94-2.06 2.06-.94-2.06-.94-.94-2.06-.94 2.06-2.06.94z\"/><path d=\"M17.41 7.96l-1.37-1.37c-.4-.4-.92-.59-1.43-.59-.52 0-1.04.2-1.43.59L10.3 9.45l-7.72 7.72c-.78.78-.78 2.05 0 2.83L4 21.41c.39.39.9.59 1.41.59.51 0 1.02-.2 1.41-.59l7.78-7.78 2.81-2.81c.8-.78.8-2.07 0-2.86zM5.41 20L4 18.59l7.72-7.72 1.47 1.35L5.41 20z\"/>\n",
              "  </svg>\n",
              "      </button>\n",
              "      \n",
              "  <style>\n",
              "    .colab-df-container {\n",
              "      display:flex;\n",
              "      flex-wrap:wrap;\n",
              "      gap: 12px;\n",
              "    }\n",
              "\n",
              "    .colab-df-convert {\n",
              "      background-color: #E8F0FE;\n",
              "      border: none;\n",
              "      border-radius: 50%;\n",
              "      cursor: pointer;\n",
              "      display: none;\n",
              "      fill: #1967D2;\n",
              "      height: 32px;\n",
              "      padding: 0 0 0 0;\n",
              "      width: 32px;\n",
              "    }\n",
              "\n",
              "    .colab-df-convert:hover {\n",
              "      background-color: #E2EBFA;\n",
              "      box-shadow: 0px 1px 2px rgba(60, 64, 67, 0.3), 0px 1px 3px 1px rgba(60, 64, 67, 0.15);\n",
              "      fill: #174EA6;\n",
              "    }\n",
              "\n",
              "    [theme=dark] .colab-df-convert {\n",
              "      background-color: #3B4455;\n",
              "      fill: #D2E3FC;\n",
              "    }\n",
              "\n",
              "    [theme=dark] .colab-df-convert:hover {\n",
              "      background-color: #434B5C;\n",
              "      box-shadow: 0px 1px 3px 1px rgba(0, 0, 0, 0.15);\n",
              "      filter: drop-shadow(0px 1px 2px rgba(0, 0, 0, 0.3));\n",
              "      fill: #FFFFFF;\n",
              "    }\n",
              "  </style>\n",
              "\n",
              "      <script>\n",
              "        const buttonEl =\n",
              "          document.querySelector('#df-e42a3b28-f896-446e-aa02-8b5184016ca2 button.colab-df-convert');\n",
              "        buttonEl.style.display =\n",
              "          google.colab.kernel.accessAllowed ? 'block' : 'none';\n",
              "\n",
              "        async function convertToInteractive(key) {\n",
              "          const element = document.querySelector('#df-e42a3b28-f896-446e-aa02-8b5184016ca2');\n",
              "          const dataTable =\n",
              "            await google.colab.kernel.invokeFunction('convertToInteractive',\n",
              "                                                     [key], {});\n",
              "          if (!dataTable) return;\n",
              "\n",
              "          const docLinkHtml = 'Like what you see? Visit the ' +\n",
              "            '<a target=\"_blank\" href=https://colab.research.google.com/notebooks/data_table.ipynb>data table notebook</a>'\n",
              "            + ' to learn more about interactive tables.';\n",
              "          element.innerHTML = '';\n",
              "          dataTable['output_type'] = 'display_data';\n",
              "          await google.colab.output.renderOutput(dataTable, element);\n",
              "          const docLink = document.createElement('div');\n",
              "          docLink.innerHTML = docLinkHtml;\n",
              "          element.appendChild(docLink);\n",
              "        }\n",
              "      </script>\n",
              "    </div>\n",
              "  </div>\n",
              "  "
            ]
          },
          "metadata": {},
          "execution_count": 30
        }
      ]
    },
    {
      "cell_type": "code",
      "source": [
        "# df = df[df.bathrooms<15]\n",
        "plt.figure()\n",
        "plt.hist(df.bathrooms)"
      ],
      "metadata": {
        "colab": {
          "base_uri": "https://localhost:8080/",
          "height": 334
        },
        "id": "XELO0aTa2h28",
        "outputId": "977333da-fa98-4053-a029-b4edebdf3fd0"
      },
      "execution_count": 31,
      "outputs": [
        {
          "output_type": "execute_result",
          "data": {
            "text/plain": [
              "(array([3.993e+03, 9.150e+02, 3.000e+01, 1.000e+00, 2.000e+00, 0.000e+00,\n",
              "        0.000e+00, 0.000e+00, 0.000e+00, 3.000e+00]),\n",
              " array([ 1. ,  4.5,  8. , 11.5, 15. , 18.5, 22. , 25.5, 29. , 32.5, 36. ]),\n",
              " <a list of 10 Patch objects>)"
            ]
          },
          "metadata": {},
          "execution_count": 31
        },
        {
          "output_type": "display_data",
          "data": {
            "text/plain": [
              "<Figure size 432x288 with 1 Axes>"
            ],
            "image/png": "[encoded data removed]"
          },
          "metadata": {
            "needs_background": "light"
          }
        }
      ]
    },
    {
      "cell_type": "code",
      "source": [
        "plt.figure()\n",
        "plt.hist(df.garage)"
      ],
      "metadata": {
        "colab": {
          "base_uri": "https://localhost:8080/",
          "height": 334
        },
        "outputId": "c4203680-01c6-40cb-8af2-5839c441cddb",
        "id": "Nrhki_JLyNwh"
      },
      "execution_count": 32,
      "outputs": [
        {
          "output_type": "execute_result",
          "data": {
            "text/plain": [
              "(array([1.587e+03, 3.251e+03, 8.800e+01, 1.000e+01, 4.000e+00, 1.000e+00,\n",
              "        1.000e+00, 1.000e+00, 0.000e+00, 1.000e+00]),\n",
              " array([ 0.,  3.,  6.,  9., 12., 15., 18., 21., 24., 27., 30.]),\n",
              " <a list of 10 Patch objects>)"
            ]
          },
          "metadata": {},
          "execution_count": 32
        },
        {
          "output_type": "display_data",
          "data": {
            "text/plain": [
              "<Figure size 432x288 with 1 Axes>"
            ],
            "image/png": "[encoded data removed]"
          },
          "metadata": {
            "needs_background": "light"
          }
        }
      ]
    },
    {
      "cell_type": "code",
      "source": [
        "df[df.garage>10]"
      ],
      "metadata": {
        "colab": {
          "base_uri": "https://localhost:8080/",
          "height": 795
        },
        "id": "1oRvLkinAUrc",
        "outputId": "d353cc6a-c007-4f8d-88ed-acbe651603b6"
      },
      "execution_count": 33,
      "outputs": [
        {
          "output_type": "execute_result",
          "data": {
            "text/plain": [
              "      sold_price  zipcode   longitude   latitude  lot_acres     taxes  \\\n",
              "140    1695000.0    85742 -111.034883  32.441422       4.58  19488.82   \n",
              "905     825000.0    85745 -111.103561  32.264041      24.92  16165.77   \n",
              "1505    817034.0    85755 -110.984403  32.464579       0.24    416.45   \n",
              "1560    785000.0    85749 -110.756365  32.268453       8.77   9313.08   \n",
              "2713    685000.0    85749 -110.755687  32.303589       3.31   6845.07   \n",
              "2961    620000.0    85641 -110.728920  31.920157       8.37   5128.38   \n",
              "3974    540000.0    85749 -110.780466  32.251520       1.49   4034.02   \n",
              "4455    550000.0    85730 -110.756556  32.181148       9.10   6656.60   \n",
              "4759    560000.0    85742 -111.054465  32.383574       9.55   9348.83   \n",
              "\n",
              "      year_built  bedrooms  bathrooms  sqrt_ft  garage  \\\n",
              "140         2004         6        6.0   6923.0      15   \n",
              "905         2005         5        6.0   5937.0      22   \n",
              "1505        2016         2        3.0   2880.0      30   \n",
              "1560        1975         4        3.0   3598.0      12   \n",
              "2713        2003         3        4.0   2854.0      12   \n",
              "2961        2001         3        3.0   3248.0      12   \n",
              "3974        1989         4        4.0   3033.0      11   \n",
              "4455        1960         7        5.0   4072.0      20   \n",
              "4759        1982         4        5.0   4282.0      13   \n",
              "\n",
              "                                       kitchen_features  fireplaces  \\\n",
              "140   Dishwasher, Double Sink, Garbage Disposal, Ind...           5   \n",
              "905       Dishwasher, Garbage Disposal, Microwave, Oven           3   \n",
              "1505  Dishwasher, Freezer, Garbage Disposal, Refrige...           0   \n",
              "1560  Compactor, Desk, Dishwasher, Double Sink, Elec...           3   \n",
              "2713  Dishwasher, Electric Range, Garbage Disposal, ...           1   \n",
              "2961  Desk, Dishwasher, Double Sink, Electric Range,...           1   \n",
              "3974  Dishwasher, Double Sink, Garbage Disposal, Laz...           1   \n",
              "4455  Compactor, Dishwasher, Garbage Disposal, Refri...           2   \n",
              "4759  Dishwasher, Garbage Disposal, Gas Range, Lazy ...           1   \n",
              "\n",
              "                                 floor_covering  HOA  pp_sqft  \n",
              "140                               Natural Stone    0   244.84  \n",
              "905                            Carpet, Concrete    0   138.96  \n",
              "1505                       Carpet, Ceramic Tile    1   283.69  \n",
              "1560                       Carpet, Ceramic Tile    0   218.18  \n",
              "2713                 Carpet, Ceramic Tile, Wood    0   240.01  \n",
              "2961                               Ceramic Tile    0   190.89  \n",
              "3974                              Natural Stone    0   178.04  \n",
              "4455  Carpet, Ceramic Tile, Mexican Tile, Other    0   135.07  \n",
              "4759        Carpet, Ceramic Tile, Natural Stone    0   130.78  "
            ],
            "text/html": [
              "\n",
              "  <div id=\"df-fc7440da-bfc0-4096-b0dc-3aaae1a2acaf\">\n",
              "    <div class=\"colab-df-container\">\n",
              "      <div>\n",
              "<style scoped>\n",
              "    .dataframe tbody tr th:only-of-type {\n",
              "        vertical-align: middle;\n",
              "    }\n",
              "\n",
              "    .dataframe tbody tr th {\n",
              "        vertical-align: top;\n",
              "    }\n",
              "\n",
              "    .dataframe thead th {\n",
              "        text-align: right;\n",
              "    }\n",
              "</style>\n",
              "<table border=\"1\" class=\"dataframe\">\n",
              "  <thead>\n",
              "    <tr style=\"text-align: right;\">\n",
              "      <th></th>\n",
              "      <th>sold_price</th>\n",
              "      <th>zipcode</th>\n",
              "      <th>longitude</th>\n",
              "      <th>latitude</th>\n",
              "      <th>lot_acres</th>\n",
              "      <th>taxes</th>\n",
              "      <th>year_built</th>\n",
              "      <th>bedrooms</th>\n",
              "      <th>bathrooms</th>\n",
              "      <th>sqrt_ft</th>\n",
              "      <th>garage</th>\n",
              "      <th>kitchen_features</th>\n",
              "      <th>fireplaces</th>\n",
              "      <th>floor_covering</th>\n",
              "      <th>HOA</th>\n",
              "      <th>pp_sqft</th>\n",
              "    </tr>\n",
              "  </thead>\n",
              "  <tbody>\n",
              "    <tr>\n",
              "      <th>140</th>\n",
              "      <td>1695000.0</td>\n",
              "      <td>85742</td>\n",
              "      <td>-111.034883</td>\n",
              "      <td>32.441422</td>\n",
              "      <td>4.58</td>\n",
              "      <td>19488.82</td>\n",
              "      <td>2004</td>\n",
              "      <td>6</td>\n",
              "      <td>6.0</td>\n",
              "      <td>6923.0</td>\n",
              "      <td>15</td>\n",
              "      <td>Dishwasher, Double Sink, Garbage Disposal, Ind...</td>\n",
              "      <td>5</td>\n",
              "      <td>Natural Stone</td>\n",
              "      <td>0</td>\n",
              "      <td>244.84</td>\n",
              "    </tr>\n",
              "    <tr>\n",
              "      <th>905</th>\n",
              "      <td>825000.0</td>\n",
              "      <td>85745</td>\n",
              "      <td>-111.103561</td>\n",
              "      <td>32.264041</td>\n",
              "      <td>24.92</td>\n",
              "      <td>16165.77</td>\n",
              "      <td>2005</td>\n",
              "      <td>5</td>\n",
              "      <td>6.0</td>\n",
              "      <td>5937.0</td>\n",
              "      <td>22</td>\n",
              "      <td>Dishwasher, Garbage Disposal, Microwave, Oven</td>\n",
              "      <td>3</td>\n",
              "      <td>Carpet, Concrete</td>\n",
              "      <td>0</td>\n",
              "      <td>138.96</td>\n",
              "    </tr>\n",
              "    <tr>\n",
              "      <th>1505</th>\n",
              "      <td>817034.0</td>\n",
              "      <td>85755</td>\n",
              "      <td>-110.984403</td>\n",
              "      <td>32.464579</td>\n",
              "      <td>0.24</td>\n",
              "      <td>416.45</td>\n",
              "      <td>2016</td>\n",
              "      <td>2</td>\n",
              "      <td>3.0</td>\n",
              "      <td>2880.0</td>\n",
              "      <td>30</td>\n",
              "      <td>Dishwasher, Freezer, Garbage Disposal, Refrige...</td>\n",
              "      <td>0</td>\n",
              "      <td>Carpet, Ceramic Tile</td>\n",
              "      <td>1</td>\n",
              "      <td>283.69</td>\n",
              "    </tr>\n",
              "    <tr>\n",
              "      <th>1560</th>\n",
              "      <td>785000.0</td>\n",
              "      <td>85749</td>\n",
              "      <td>-110.756365</td>\n",
              "      <td>32.268453</td>\n",
              "      <td>8.77</td>\n",
              "      <td>9313.08</td>\n",
              "      <td>1975</td>\n",
              "      <td>4</td>\n",
              "      <td>3.0</td>\n",
              "      <td>3598.0</td>\n",
              "      <td>12</td>\n",
              "      <td>Compactor, Desk, Dishwasher, Double Sink, Elec...</td>\n",
              "      <td>3</td>\n",
              "      <td>Carpet, Ceramic Tile</td>\n",
              "      <td>0</td>\n",
              "      <td>218.18</td>\n",
              "    </tr>\n",
              "    <tr>\n",
              "      <th>2713</th>\n",
              "      <td>685000.0</td>\n",
              "      <td>85749</td>\n",
              "      <td>-110.755687</td>\n",
              "      <td>32.303589</td>\n",
              "      <td>3.31</td>\n",
              "      <td>6845.07</td>\n",
              "      <td>2003</td>\n",
              "      <td>3</td>\n",
              "      <td>4.0</td>\n",
              "      <td>2854.0</td>\n",
              "      <td>12</td>\n",
              "      <td>Dishwasher, Electric Range, Garbage Disposal, ...</td>\n",
              "      <td>1</td>\n",
              "      <td>Carpet, Ceramic Tile, Wood</td>\n",
              "      <td>0</td>\n",
              "      <td>240.01</td>\n",
              "    </tr>\n",
              "    <tr>\n",
              "      <th>2961</th>\n",
              "      <td>620000.0</td>\n",
              "      <td>85641</td>\n",
              "      <td>-110.728920</td>\n",
              "      <td>31.920157</td>\n",
              "      <td>8.37</td>\n",
              "      <td>5128.38</td>\n",
              "      <td>2001</td>\n",
              "      <td>3</td>\n",
              "      <td>3.0</td>\n",
              "      <td>3248.0</td>\n",
              "      <td>12</td>\n",
              "      <td>Desk, Dishwasher, Double Sink, Electric Range,...</td>\n",
              "      <td>1</td>\n",
              "      <td>Ceramic Tile</td>\n",
              "      <td>0</td>\n",
              "      <td>190.89</td>\n",
              "    </tr>\n",
              "    <tr>\n",
              "      <th>3974</th>\n",
              "      <td>540000.0</td>\n",
              "      <td>85749</td>\n",
              "      <td>-110.780466</td>\n",
              "      <td>32.251520</td>\n",
              "      <td>1.49</td>\n",
              "      <td>4034.02</td>\n",
              "      <td>1989</td>\n",
              "      <td>4</td>\n",
              "      <td>4.0</td>\n",
              "      <td>3033.0</td>\n",
              "      <td>11</td>\n",
              "      <td>Dishwasher, Double Sink, Garbage Disposal, Laz...</td>\n",
              "      <td>1</td>\n",
              "      <td>Natural Stone</td>\n",
              "      <td>0</td>\n",
              "      <td>178.04</td>\n",
              "    </tr>\n",
              "    <tr>\n",
              "      <th>4455</th>\n",
              "      <td>550000.0</td>\n",
              "      <td>85730</td>\n",
              "      <td>-110.756556</td>\n",
              "      <td>32.181148</td>\n",
              "      <td>9.10</td>\n",
              "      <td>6656.60</td>\n",
              "      <td>1960</td>\n",
              "      <td>7</td>\n",
              "      <td>5.0</td>\n",
              "      <td>4072.0</td>\n",
              "      <td>20</td>\n",
              "      <td>Compactor, Dishwasher, Garbage Disposal, Refri...</td>\n",
              "      <td>2</td>\n",
              "      <td>Carpet, Ceramic Tile, Mexican Tile, Other</td>\n",
              "      <td>0</td>\n",
              "      <td>135.07</td>\n",
              "    </tr>\n",
              "    <tr>\n",
              "      <th>4759</th>\n",
              "      <td>560000.0</td>\n",
              "      <td>85742</td>\n",
              "      <td>-111.054465</td>\n",
              "      <td>32.383574</td>\n",
              "      <td>9.55</td>\n",
              "      <td>9348.83</td>\n",
              "      <td>1982</td>\n",
              "      <td>4</td>\n",
              "      <td>5.0</td>\n",
              "      <td>4282.0</td>\n",
              "      <td>13</td>\n",
              "      <td>Dishwasher, Garbage Disposal, Gas Range, Lazy ...</td>\n",
              "      <td>1</td>\n",
              "      <td>Carpet, Ceramic Tile, Natural Stone</td>\n",
              "      <td>0</td>\n",
              "      <td>130.78</td>\n",
              "    </tr>\n",
              "  </tbody>\n",
              "</table>\n",
              "</div>\n",
              "      <button class=\"colab-df-convert\" onclick=\"convertToInteractive('df-fc7440da-bfc0-4096-b0dc-3aaae1a2acaf')\"\n",
              "              title=\"Convert this dataframe to an interactive table.\"\n",
              "              style=\"display:none;\">\n",
              "        \n",
              "  <svg xmlns=\"http://www.w3.org/2000/svg\" height=\"24px\"viewBox=\"0 0 24 24\"\n",
              "       width=\"24px\">\n",
              "    <path d=\"M0 0h24v24H0V0z\" fill=\"none\"/>\n",
              "    <path d=\"M18.56 5.44l.94 2.06.94-2.06 2.06-.94-2.06-.94-.94-2.06-.94 2.06-2.06.94zm-11 1L8.5 8.5l.94-2.06 2.06-.94-2.06-.94L8.5 2.5l-.94 2.06-2.06.94zm10 10l.94 2.06.94-2.06 2.06-.94-2.06-.94-.94-2.06-.94 2.06-2.06.94z\"/><path d=\"M17.41 7.96l-1.37-1.37c-.4-.4-.92-.59-1.43-.59-.52 0-1.04.2-1.43.59L10.3 9.45l-7.72 7.72c-.78.78-.78 2.05 0 2.83L4 21.41c.39.39.9.59 1.41.59.51 0 1.02-.2 1.41-.59l7.78-7.78 2.81-2.81c.8-.78.8-2.07 0-2.86zM5.41 20L4 18.59l7.72-7.72 1.47 1.35L5.41 20z\"/>\n",
              "  </svg>\n",
              "      </button>\n",
              "      \n",
              "  <style>\n",
              "    .colab-df-container {\n",
              "      display:flex;\n",
              "      flex-wrap:wrap;\n",
              "      gap: 12px;\n",
              "    }\n",
              "\n",
              "    .colab-df-convert {\n",
              "      background-color: #E8F0FE;\n",
              "      border: none;\n",
              "      border-radius: 50%;\n",
              "      cursor: pointer;\n",
              "      display: none;\n",
              "      fill: #1967D2;\n",
              "      height: 32px;\n",
              "      padding: 0 0 0 0;\n",
              "      width: 32px;\n",
              "    }\n",
              "\n",
              "    .colab-df-convert:hover {\n",
              "      background-color: #E2EBFA;\n",
              "      box-shadow: 0px 1px 2px rgba(60, 64, 67, 0.3), 0px 1px 3px 1px rgba(60, 64, 67, 0.15);\n",
              "      fill: #174EA6;\n",
              "    }\n",
              "\n",
              "    [theme=dark] .colab-df-convert {\n",
              "      background-color: #3B4455;\n",
              "      fill: #D2E3FC;\n",
              "    }\n",
              "\n",
              "    [theme=dark] .colab-df-convert:hover {\n",
              "      background-color: #434B5C;\n",
              "      box-shadow: 0px 1px 3px 1px rgba(0, 0, 0, 0.15);\n",
              "      filter: drop-shadow(0px 1px 2px rgba(0, 0, 0, 0.3));\n",
              "      fill: #FFFFFF;\n",
              "    }\n",
              "  </style>\n",
              "\n",
              "      <script>\n",
              "        const buttonEl =\n",
              "          document.querySelector('#df-fc7440da-bfc0-4096-b0dc-3aaae1a2acaf button.colab-df-convert');\n",
              "        buttonEl.style.display =\n",
              "          google.colab.kernel.accessAllowed ? 'block' : 'none';\n",
              "\n",
              "        async function convertToInteractive(key) {\n",
              "          const element = document.querySelector('#df-fc7440da-bfc0-4096-b0dc-3aaae1a2acaf');\n",
              "          const dataTable =\n",
              "            await google.colab.kernel.invokeFunction('convertToInteractive',\n",
              "                                                     [key], {});\n",
              "          if (!dataTable) return;\n",
              "\n",
              "          const docLinkHtml = 'Like what you see? Visit the ' +\n",
              "            '<a target=\"_blank\" href=https://colab.research.google.com/notebooks/data_table.ipynb>data table notebook</a>'\n",
              "            + ' to learn more about interactive tables.';\n",
              "          element.innerHTML = '';\n",
              "          dataTable['output_type'] = 'display_data';\n",
              "          await google.colab.output.renderOutput(dataTable, element);\n",
              "          const docLink = document.createElement('div');\n",
              "          docLink.innerHTML = docLinkHtml;\n",
              "          element.appendChild(docLink);\n",
              "        }\n",
              "      </script>\n",
              "    </div>\n",
              "  </div>\n",
              "  "
            ]
          },
          "metadata": {},
          "execution_count": 33
        }
      ]
    },
    {
      "cell_type": "code",
      "source": [
        "charts(df, \"garage\", 10)"
      ],
      "metadata": {
        "colab": {
          "base_uri": "https://localhost:8080/",
          "height": 497
        },
        "id": "GBYbpxRE8L6y",
        "outputId": "979a42b1-3331-4a18-812f-6a3e021ed230"
      },
      "execution_count": 34,
      "outputs": [
        {
          "output_type": "display_data",
          "data": {
            "text/plain": [
              "<Figure size 864x576 with 4 Axes>"
            ],
            "image/png": "[encoded data removed]"
          },
          "metadata": {
            "needs_background": "light"
          }
        }
      ]
    },
    {
      "cell_type": "code",
      "source": [
        "# df = df[df.garage<10]"
      ],
      "metadata": {
        "id": "39FMd4zK5QvG"
      },
      "execution_count": 35,
      "outputs": []
    },
    {
      "cell_type": "code",
      "source": [
        "charts(df, \"pp_sqft\", 600)"
      ],
      "metadata": {
        "colab": {
          "base_uri": "https://localhost:8080/",
          "height": 498
        },
        "id": "9GCS6sHOe6nc",
        "outputId": "c687469e-61d8-46dc-c609-279931070b8c"
      },
      "execution_count": 36,
      "outputs": [
        {
          "output_type": "display_data",
          "data": {
            "text/plain": [
              "<Figure size 864x576 with 4 Axes>"
            ],
            "image/png": "[encoded data removed]"
          },
          "metadata": {
            "needs_background": "light"
          }
        }
      ]
    },
    {
      "cell_type": "code",
      "source": [
        "df[df.pp_sqft>600]\n",
        "# df = df[df.pp_sqft<600]"
      ],
      "metadata": {
        "id": "G5k635VafH2F",
        "colab": {
          "base_uri": "https://localhost:8080/",
          "height": 1000
        },
        "outputId": "c0e0d5c9-47b9-4b73-f38a-183a5c2eca0f"
      },
      "execution_count": 37,
      "outputs": [
        {
          "output_type": "execute_result",
          "data": {
            "text/plain": [
              "     sold_price  zipcode   longitude   latitude  lot_acres     taxes  \\\n",
              "8     3700000.0    85718 -110.912156  32.343601       6.73  25094.39   \n",
              "14    3000000.0    85739 -110.883068  32.508778       0.00  29669.00   \n",
              "15    2600000.0    85739 -110.883252  32.507699       0.00  18044.00   \n",
              "18    2600000.0    85739 -110.883239  32.509040       0.00  17567.18   \n",
              "20    2600000.0    85739 -110.883065  32.508778       0.00   8753.35   \n",
              "26    2600000.0    85739 -110.883055  32.508861       0.15  30072.26   \n",
              "29    2500000.0    85609 -110.095713  32.057222    1048.18   2441.60   \n",
              "49    1800000.0    86024 -111.228462  34.596971      59.30   4509.90   \n",
              "53    2150000.0    85739 -110.883660  32.509721       0.00  19060.81   \n",
              "58    2117552.0    85658 -111.092958  32.472956       0.63   1340.87   \n",
              "63    1950000.0    85658 -111.063603  32.453180       3.57  14425.80   \n",
              "76    1700000.0    85749 -110.760047  32.238923      18.17   8602.57   \n",
              "279   1450000.0    85624 -110.654319  31.430558     220.00   1200.00   \n",
              "915    967269.0    85750 -110.829661  32.328019       6.97  11002.23   \n",
              "\n",
              "     year_built  bedrooms  bathrooms  sqrt_ft  garage  \\\n",
              "8          2002         5        7.0   5238.0       3   \n",
              "14         2008         3        3.0   3095.0       0   \n",
              "15         2008         3        3.0   3095.0       0   \n",
              "18         2008         3        3.0   3095.0       0   \n",
              "20         2008         3        3.0   3095.0       0   \n",
              "26         2008         3        3.0   3095.0       0   \n",
              "29         1985         2        2.0   2895.0       0   \n",
              "49         2003         2        3.0   1999.0       2   \n",
              "53         2008         2        3.0   2729.0       0   \n",
              "58         2014         3        4.0   3276.0       2   \n",
              "63         2013         2        3.0   3140.0       3   \n",
              "76         1953         4        4.0   2385.0       0   \n",
              "279        1980         1        1.0   1200.0       2   \n",
              "915        1981         1        1.0   1484.0       2   \n",
              "\n",
              "                                      kitchen_features  fireplaces  \\\n",
              "8    Compactor, Dishwasher, Freezer, Garbage Dispos...           1   \n",
              "14   Dishwasher, Garbage Disposal, Refrigerator, Mi...           3   \n",
              "15   Dishwasher, Freezer, Garbage Disposal, Refrige...           3   \n",
              "18           Dishwasher, Refrigerator, Microwave, Oven           3   \n",
              "20   Dishwasher, Garbage Disposal, Refrigerator, Mi...           3   \n",
              "26   Dishwasher, Double Sink, Garbage Disposal, Gas...           3   \n",
              "29                                  Refrigerator, Oven           1   \n",
              "49   Dishwasher, Garbage Disposal, Gas Range, Refri...           1   \n",
              "53   Dishwasher, Garbage Disposal, Refrigerator, Mi...           2   \n",
              "58   Dishwasher, Garbage Disposal, Refrigerator, Mi...           2   \n",
              "63   Dishwasher, Garbage Disposal, Gas Range, Islan...           3   \n",
              "76                                      Electric Range           2   \n",
              "279                                 Refrigerator, Oven           1   \n",
              "915  Electric Range, Refrigerator, Appliance Color:...           1   \n",
              "\n",
              "                          floor_covering  HOA  pp_sqft  \n",
              "8     Carpet, Natural Stone, Wood, Other    1   706.38  \n",
              "14                   Natural Stone, Wood    1   969.31  \n",
              "15                   Natural Stone, Wood    0   840.06  \n",
              "18                   Natural Stone, Wood    0   840.06  \n",
              "20                   Natural Stone, Wood    0   840.06  \n",
              "26                   Natural Stone, Wood    1   840.06  \n",
              "29           Carpet, Mexican Tile, Other    0   863.56  \n",
              "49            Carpet, Wood, Other: Brick    0   900.45  \n",
              "53                   Natural Stone, Wood    1   787.83  \n",
              "58                 Carpet, Natural Stone    1   646.38  \n",
              "63   Carpet, Ceramic Tile, Natural Stone    1   621.02  \n",
              "76                Ceramic Tile, Concrete    0   712.79  \n",
              "279                         Mexican Tile    0  1208.33  \n",
              "915                  Natural Stone, Wood    0   651.80  "
            ],
            "text/html": [
              "\n",
              "  <div id=\"df-5b691600-e0e2-48dc-9985-8ca97dec5c4d\">\n",
              "    <div class=\"colab-df-container\">\n",
              "      <div>\n",
              "<style scoped>\n",
              "    .dataframe tbody tr th:only-of-type {\n",
              "        vertical-align: middle;\n",
              "    }\n",
              "\n",
              "    .dataframe tbody tr th {\n",
              "        vertical-align: top;\n",
              "    }\n",
              "\n",
              "    .dataframe thead th {\n",
              "        text-align: right;\n",
              "    }\n",
              "</style>\n",
              "<table border=\"1\" class=\"dataframe\">\n",
              "  <thead>\n",
              "    <tr style=\"text-align: right;\">\n",
              "      <th></th>\n",
              "      <th>sold_price</th>\n",
              "      <th>zipcode</th>\n",
              "      <th>longitude</th>\n",
              "      <th>latitude</th>\n",
              "      <th>lot_acres</th>\n",
              "      <th>taxes</th>\n",
              "      <th>year_built</th>\n",
              "      <th>bedrooms</th>\n",
              "      <th>bathrooms</th>\n",
              "      <th>sqrt_ft</th>\n",
              "      <th>garage</th>\n",
              "      <th>kitchen_features</th>\n",
              "      <th>fireplaces</th>\n",
              "      <th>floor_covering</th>\n",
              "      <th>HOA</th>\n",
              "      <th>pp_sqft</th>\n",
              "    </tr>\n",
              "  </thead>\n",
              "  <tbody>\n",
              "    <tr>\n",
              "      <th>8</th>\n",
              "      <td>3700000.0</td>\n",
              "      <td>85718</td>\n",
              "      <td>-110.912156</td>\n",
              "      <td>32.343601</td>\n",
              "      <td>6.73</td>\n",
              "      <td>25094.39</td>\n",
              "      <td>2002</td>\n",
              "      <td>5</td>\n",
              "      <td>7.0</td>\n",
              "      <td>5238.0</td>\n",
              "      <td>3</td>\n",
              "      <td>Compactor, Dishwasher, Freezer, Garbage Dispos...</td>\n",
              "      <td>1</td>\n",
              "      <td>Carpet, Natural Stone, Wood, Other</td>\n",
              "      <td>1</td>\n",
              "      <td>706.38</td>\n",
              "    </tr>\n",
              "    <tr>\n",
              "      <th>14</th>\n",
              "      <td>3000000.0</td>\n",
              "      <td>85739</td>\n",
              "      <td>-110.883068</td>\n",
              "      <td>32.508778</td>\n",
              "      <td>0.00</td>\n",
              "      <td>29669.00</td>\n",
              "      <td>2008</td>\n",
              "      <td>3</td>\n",
              "      <td>3.0</td>\n",
              "      <td>3095.0</td>\n",
              "      <td>0</td>\n",
              "      <td>Dishwasher, Garbage Disposal, Refrigerator, Mi...</td>\n",
              "      <td>3</td>\n",
              "      <td>Natural Stone, Wood</td>\n",
              "      <td>1</td>\n",
              "      <td>969.31</td>\n",
              "    </tr>\n",
              "    <tr>\n",
              "      <th>15</th>\n",
              "      <td>2600000.0</td>\n",
              "      <td>85739</td>\n",
              "      <td>-110.883252</td>\n",
              "      <td>32.507699</td>\n",
              "      <td>0.00</td>\n",
              "      <td>18044.00</td>\n",
              "      <td>2008</td>\n",
              "      <td>3</td>\n",
              "      <td>3.0</td>\n",
              "      <td>3095.0</td>\n",
              "      <td>0</td>\n",
              "      <td>Dishwasher, Freezer, Garbage Disposal, Refrige...</td>\n",
              "      <td>3</td>\n",
              "      <td>Natural Stone, Wood</td>\n",
              "      <td>0</td>\n",
              "      <td>840.06</td>\n",
              "    </tr>\n",
              "    <tr>\n",
              "      <th>18</th>\n",
              "      <td>2600000.0</td>\n",
              "      <td>85739</td>\n",
              "      <td>-110.883239</td>\n",
              "      <td>32.509040</td>\n",
              "      <td>0.00</td>\n",
              "      <td>17567.18</td>\n",
              "      <td>2008</td>\n",
              "      <td>3</td>\n",
              "      <td>3.0</td>\n",
              "      <td>3095.0</td>\n",
              "      <td>0</td>\n",
              "      <td>Dishwasher, Refrigerator, Microwave, Oven</td>\n",
              "      <td>3</td>\n",
              "      <td>Natural Stone, Wood</td>\n",
              "      <td>0</td>\n",
              "      <td>840.06</td>\n",
              "    </tr>\n",
              "    <tr>\n",
              "      <th>20</th>\n",
              "      <td>2600000.0</td>\n",
              "      <td>85739</td>\n",
              "      <td>-110.883065</td>\n",
              "      <td>32.508778</td>\n",
              "      <td>0.00</td>\n",
              "      <td>8753.35</td>\n",
              "      <td>2008</td>\n",
              "      <td>3</td>\n",
              "      <td>3.0</td>\n",
              "      <td>3095.0</td>\n",
              "      <td>0</td>\n",
              "      <td>Dishwasher, Garbage Disposal, Refrigerator, Mi...</td>\n",
              "      <td>3</td>\n",
              "      <td>Natural Stone, Wood</td>\n",
              "      <td>0</td>\n",
              "      <td>840.06</td>\n",
              "    </tr>\n",
              "    <tr>\n",
              "      <th>26</th>\n",
              "      <td>2600000.0</td>\n",
              "      <td>85739</td>\n",
              "      <td>-110.883055</td>\n",
              "      <td>32.508861</td>\n",
              "      <td>0.15</td>\n",
              "      <td>30072.26</td>\n",
              "      <td>2008</td>\n",
              "      <td>3</td>\n",
              "      <td>3.0</td>\n",
              "      <td>3095.0</td>\n",
              "      <td>0</td>\n",
              "      <td>Dishwasher, Double Sink, Garbage Disposal, Gas...</td>\n",
              "      <td>3</td>\n",
              "      <td>Natural Stone, Wood</td>\n",
              "      <td>1</td>\n",
              "      <td>840.06</td>\n",
              "    </tr>\n",
              "    <tr>\n",
              "      <th>29</th>\n",
              "      <td>2500000.0</td>\n",
              "      <td>85609</td>\n",
              "      <td>-110.095713</td>\n",
              "      <td>32.057222</td>\n",
              "      <td>1048.18</td>\n",
              "      <td>2441.60</td>\n",
              "      <td>1985</td>\n",
              "      <td>2</td>\n",
              "      <td>2.0</td>\n",
              "      <td>2895.0</td>\n",
              "      <td>0</td>\n",
              "      <td>Refrigerator, Oven</td>\n",
              "      <td>1</td>\n",
              "      <td>Carpet, Mexican Tile, Other</td>\n",
              "      <td>0</td>\n",
              "      <td>863.56</td>\n",
              "    </tr>\n",
              "    <tr>\n",
              "      <th>49</th>\n",
              "      <td>1800000.0</td>\n",
              "      <td>86024</td>\n",
              "      <td>-111.228462</td>\n",
              "      <td>34.596971</td>\n",
              "      <td>59.30</td>\n",
              "      <td>4509.90</td>\n",
              "      <td>2003</td>\n",
              "      <td>2</td>\n",
              "      <td>3.0</td>\n",
              "      <td>1999.0</td>\n",
              "      <td>2</td>\n",
              "      <td>Dishwasher, Garbage Disposal, Gas Range, Refri...</td>\n",
              "      <td>1</td>\n",
              "      <td>Carpet, Wood, Other: Brick</td>\n",
              "      <td>0</td>\n",
              "      <td>900.45</td>\n",
              "    </tr>\n",
              "    <tr>\n",
              "      <th>53</th>\n",
              "      <td>2150000.0</td>\n",
              "      <td>85739</td>\n",
              "      <td>-110.883660</td>\n",
              "      <td>32.509721</td>\n",
              "      <td>0.00</td>\n",
              "      <td>19060.81</td>\n",
              "      <td>2008</td>\n",
              "      <td>2</td>\n",
              "      <td>3.0</td>\n",
              "      <td>2729.0</td>\n",
              "      <td>0</td>\n",
              "      <td>Dishwasher, Garbage Disposal, Refrigerator, Mi...</td>\n",
              "      <td>2</td>\n",
              "      <td>Natural Stone, Wood</td>\n",
              "      <td>1</td>\n",
              "      <td>787.83</td>\n",
              "    </tr>\n",
              "    <tr>\n",
              "      <th>58</th>\n",
              "      <td>2117552.0</td>\n",
              "      <td>85658</td>\n",
              "      <td>-111.092958</td>\n",
              "      <td>32.472956</td>\n",
              "      <td>0.63</td>\n",
              "      <td>1340.87</td>\n",
              "      <td>2014</td>\n",
              "      <td>3</td>\n",
              "      <td>4.0</td>\n",
              "      <td>3276.0</td>\n",
              "      <td>2</td>\n",
              "      <td>Dishwasher, Garbage Disposal, Refrigerator, Mi...</td>\n",
              "      <td>2</td>\n",
              "      <td>Carpet, Natural Stone</td>\n",
              "      <td>1</td>\n",
              "      <td>646.38</td>\n",
              "    </tr>\n",
              "    <tr>\n",
              "      <th>63</th>\n",
              "      <td>1950000.0</td>\n",
              "      <td>85658</td>\n",
              "      <td>-111.063603</td>\n",
              "      <td>32.453180</td>\n",
              "      <td>3.57</td>\n",
              "      <td>14425.80</td>\n",
              "      <td>2013</td>\n",
              "      <td>2</td>\n",
              "      <td>3.0</td>\n",
              "      <td>3140.0</td>\n",
              "      <td>3</td>\n",
              "      <td>Dishwasher, Garbage Disposal, Gas Range, Islan...</td>\n",
              "      <td>3</td>\n",
              "      <td>Carpet, Ceramic Tile, Natural Stone</td>\n",
              "      <td>1</td>\n",
              "      <td>621.02</td>\n",
              "    </tr>\n",
              "    <tr>\n",
              "      <th>76</th>\n",
              "      <td>1700000.0</td>\n",
              "      <td>85749</td>\n",
              "      <td>-110.760047</td>\n",
              "      <td>32.238923</td>\n",
              "      <td>18.17</td>\n",
              "      <td>8602.57</td>\n",
              "      <td>1953</td>\n",
              "      <td>4</td>\n",
              "      <td>4.0</td>\n",
              "      <td>2385.0</td>\n",
              "      <td>0</td>\n",
              "      <td>Electric Range</td>\n",
              "      <td>2</td>\n",
              "      <td>Ceramic Tile, Concrete</td>\n",
              "      <td>0</td>\n",
              "      <td>712.79</td>\n",
              "    </tr>\n",
              "    <tr>\n",
              "      <th>279</th>\n",
              "      <td>1450000.0</td>\n",
              "      <td>85624</td>\n",
              "      <td>-110.654319</td>\n",
              "      <td>31.430558</td>\n",
              "      <td>220.00</td>\n",
              "      <td>1200.00</td>\n",
              "      <td>1980</td>\n",
              "      <td>1</td>\n",
              "      <td>1.0</td>\n",
              "      <td>1200.0</td>\n",
              "      <td>2</td>\n",
              "      <td>Refrigerator, Oven</td>\n",
              "      <td>1</td>\n",
              "      <td>Mexican Tile</td>\n",
              "      <td>0</td>\n",
              "      <td>1208.33</td>\n",
              "    </tr>\n",
              "    <tr>\n",
              "      <th>915</th>\n",
              "      <td>967269.0</td>\n",
              "      <td>85750</td>\n",
              "      <td>-110.829661</td>\n",
              "      <td>32.328019</td>\n",
              "      <td>6.97</td>\n",
              "      <td>11002.23</td>\n",
              "      <td>1981</td>\n",
              "      <td>1</td>\n",
              "      <td>1.0</td>\n",
              "      <td>1484.0</td>\n",
              "      <td>2</td>\n",
              "      <td>Electric Range, Refrigerator, Appliance Color:...</td>\n",
              "      <td>1</td>\n",
              "      <td>Natural Stone, Wood</td>\n",
              "      <td>0</td>\n",
              "      <td>651.80</td>\n",
              "    </tr>\n",
              "  </tbody>\n",
              "</table>\n",
              "</div>\n",
              "      <button class=\"colab-df-convert\" onclick=\"convertToInteractive('df-5b691600-e0e2-48dc-9985-8ca97dec5c4d')\"\n",
              "              title=\"Convert this dataframe to an interactive table.\"\n",
              "              style=\"display:none;\">\n",
              "        \n",
              "  <svg xmlns=\"http://www.w3.org/2000/svg\" height=\"24px\"viewBox=\"0 0 24 24\"\n",
              "       width=\"24px\">\n",
              "    <path d=\"M0 0h24v24H0V0z\" fill=\"none\"/>\n",
              "    <path d=\"M18.56 5.44l.94 2.06.94-2.06 2.06-.94-2.06-.94-.94-2.06-.94 2.06-2.06.94zm-11 1L8.5 8.5l.94-2.06 2.06-.94-2.06-.94L8.5 2.5l-.94 2.06-2.06.94zm10 10l.94 2.06.94-2.06 2.06-.94-2.06-.94-.94-2.06-.94 2.06-2.06.94z\"/><path d=\"M17.41 7.96l-1.37-1.37c-.4-.4-.92-.59-1.43-.59-.52 0-1.04.2-1.43.59L10.3 9.45l-7.72 7.72c-.78.78-.78 2.05 0 2.83L4 21.41c.39.39.9.59 1.41.59.51 0 1.02-.2 1.41-.59l7.78-7.78 2.81-2.81c.8-.78.8-2.07 0-2.86zM5.41 20L4 18.59l7.72-7.72 1.47 1.35L5.41 20z\"/>\n",
              "  </svg>\n",
              "      </button>\n",
              "      \n",
              "  <style>\n",
              "    .colab-df-container {\n",
              "      display:flex;\n",
              "      flex-wrap:wrap;\n",
              "      gap: 12px;\n",
              "    }\n",
              "\n",
              "    .colab-df-convert {\n",
              "      background-color: #E8F0FE;\n",
              "      border: none;\n",
              "      border-radius: 50%;\n",
              "      cursor: pointer;\n",
              "      display: none;\n",
              "      fill: #1967D2;\n",
              "      height: 32px;\n",
              "      padding: 0 0 0 0;\n",
              "      width: 32px;\n",
              "    }\n",
              "\n",
              "    .colab-df-convert:hover {\n",
              "      background-color: #E2EBFA;\n",
              "      box-shadow: 0px 1px 2px rgba(60, 64, 67, 0.3), 0px 1px 3px 1px rgba(60, 64, 67, 0.15);\n",
              "      fill: #174EA6;\n",
              "    }\n",
              "\n",
              "    [theme=dark] .colab-df-convert {\n",
              "      background-color: #3B4455;\n",
              "      fill: #D2E3FC;\n",
              "    }\n",
              "\n",
              "    [theme=dark] .colab-df-convert:hover {\n",
              "      background-color: #434B5C;\n",
              "      box-shadow: 0px 1px 3px 1px rgba(0, 0, 0, 0.15);\n",
              "      filter: drop-shadow(0px 1px 2px rgba(0, 0, 0, 0.3));\n",
              "      fill: #FFFFFF;\n",
              "    }\n",
              "  </style>\n",
              "\n",
              "      <script>\n",
              "        const buttonEl =\n",
              "          document.querySelector('#df-5b691600-e0e2-48dc-9985-8ca97dec5c4d button.colab-df-convert');\n",
              "        buttonEl.style.display =\n",
              "          google.colab.kernel.accessAllowed ? 'block' : 'none';\n",
              "\n",
              "        async function convertToInteractive(key) {\n",
              "          const element = document.querySelector('#df-5b691600-e0e2-48dc-9985-8ca97dec5c4d');\n",
              "          const dataTable =\n",
              "            await google.colab.kernel.invokeFunction('convertToInteractive',\n",
              "                                                     [key], {});\n",
              "          if (!dataTable) return;\n",
              "\n",
              "          const docLinkHtml = 'Like what you see? Visit the ' +\n",
              "            '<a target=\"_blank\" href=https://colab.research.google.com/notebooks/data_table.ipynb>data table notebook</a>'\n",
              "            + ' to learn more about interactive tables.';\n",
              "          element.innerHTML = '';\n",
              "          dataTable['output_type'] = 'display_data';\n",
              "          await google.colab.output.renderOutput(dataTable, element);\n",
              "          const docLink = document.createElement('div');\n",
              "          docLink.innerHTML = docLinkHtml;\n",
              "          element.appendChild(docLink);\n",
              "        }\n",
              "      </script>\n",
              "    </div>\n",
              "  </div>\n",
              "  "
            ]
          },
          "metadata": {},
          "execution_count": 37
        }
      ]
    },
    {
      "cell_type": "code",
      "source": [
        "df[df.sold_price>2500000]\n",
        "# df = df[df.sold_price<2500001]\n",
        "charts(df, \"sold_price\", 2500000)"
      ],
      "metadata": {
        "colab": {
          "base_uri": "https://localhost:8080/",
          "height": 498
        },
        "id": "jRmj4QWRlb0f",
        "outputId": "a4bba160-d15f-44c7-a126-e3d630de9b68"
      },
      "execution_count": 38,
      "outputs": [
        {
          "output_type": "display_data",
          "data": {
            "text/plain": [
              "<Figure size 864x576 with 4 Axes>"
            ],
            "image/png": "[encoded data removed]"
          },
          "metadata": {
            "needs_background": "light"
          }
        }
      ]
    },
    {
      "cell_type": "code",
      "source": [
        "# 'Outliers' removed after glancing at the scatter plots\n",
        "df = df[df.lot_acres < 1000]\n",
        "df = df[df.taxes < 1200000]\n",
        "df = df[df.year_built != 0]\n",
        "df = df[df.bedrooms < 15]\n",
        "df = df[df.bathrooms < 20]\n",
        "df = df[df.sqrt_ft < 15000]\n",
        "df = df[df.garage < 15]\n",
        "df = df[df.sold_price < 3000000]"
      ],
      "metadata": {
        "id": "bEgbVymjE_lK"
      },
      "execution_count": 39,
      "outputs": []
    },
    {
      "cell_type": "markdown",
      "source": [
        "### Feature engineering"
      ],
      "metadata": {
        "id": "WOemBKs_F_0z"
      }
    },
    {
      "cell_type": "markdown",
      "source": [
        "#### New features"
      ],
      "metadata": {
        "id": "qewMqRdAAlL5"
      }
    },
    {
      "cell_type": "code",
      "source": [
        "df[\"avg_room_size\"] = (df[\"sqrt_ft\"]//(df.bedrooms + df.bathrooms)).astype(int)\n",
        "df[\"home_age\"] = (2022 - df.year_built)\n",
        "df[\"bed_bath\"] = (df.bedrooms // df.bathrooms).astype(int)\n",
        "df[\"abs_lon\"] = df.longitude.abs()\n",
        "df[\"abs_lat\"] = df.latitude.abs()"
      ],
      "metadata": {
        "id": "zLrmpx1qXlz9"
      },
      "execution_count": 40,
      "outputs": []
    },
    {
      "cell_type": "markdown",
      "source": [
        "#### Dealing with kitchen & floor"
      ],
      "metadata": {
        "id": "vbNUdy4HwKNL"
      }
    },
    {
      "cell_type": "markdown",
      "source": [
        "##### Floor"
      ],
      "metadata": {
        "id": "no7gk0ycwS7F"
      }
    },
    {
      "cell_type": "code",
      "source": [
        "def converting_floor(column):\n",
        "    unique_items = set([])\n",
        "    item_counts = dict()\n",
        "    for i in column:\n",
        "        for item in i.split(','):\n",
        "            item = item.strip().lower()\n",
        "            if item in item_counts: \n",
        "                item_counts[item] += 1\n",
        "            else: \n",
        "                item_counts[item] = 1\n",
        "            unique_items.add(item)\n",
        "    return sorted(unique_items), item_counts\n",
        "\n",
        "def regx_filter_keys(d,a):\n",
        "    drops = []\n",
        "    for s in a:\n",
        "        for key, val in d.items():\n",
        "            if not s==key and re.search(s, key):\n",
        "                if s in d.keys():\n",
        "                    d[s] += val\n",
        "                    drops.append(key)\n",
        "                else:\n",
        "                    d[s] = val\n",
        "                    d.pop(key)\n",
        "    for _ in drops:\n",
        "        if _ in d.keys():\n",
        "            d.pop(_)\n",
        "    return d \n",
        "\n",
        "def combine_keyvals(d,key,a):\n",
        "    for _ in a:\n",
        "        d[key] += d[_]\n",
        "        d.pop(_)\n",
        "    return d\n",
        "\n",
        "def reg_count(d,s):\n",
        "    occurences = {}\n",
        "    for key,val in d.items():\n",
        "        if re.search(s, key):\n",
        "            occurences[key] = val\n",
        "    return occurences"
      ],
      "metadata": {
        "id": "SBIRyxkdxf-x"
      },
      "execution_count": 41,
      "outputs": []
    },
    {
      "cell_type": "code",
      "source": [
        "# floor_items, item_counts = converting_floor(df['floor_covering'].unique())\n",
        "floor_items, item_counts = converting_floor(df['floor_covering'])\n",
        "print(len(floor_items))"
      ],
      "metadata": {
        "id": "jAwz4sQywN51",
        "colab": {
          "base_uri": "https://localhost:8080/"
        },
        "outputId": "01f34aad-e050-4852-9111-be261eb7d93f"
      },
      "execution_count": 42,
      "outputs": [
        {
          "output_type": "stream",
          "name": "stdout",
          "text": [
            "96\n"
          ]
        }
      ]
    },
    {
      "cell_type": "code",
      "source": [
        "temp = [\"carpet\", \"ceramic tile\", \"wood\", \"natural stone\", \"concrete\", \n",
        "        \"mexican tile\", \"laminate\", \"vinyl\", \"porcelain\", \"travertine\", \"other\"]\n",
        "a = regx_filter_keys(item_counts, temp)\n",
        "a = combine_keyvals(a, \"other\", [\"granite\", \"indoor/outdoor\"])\n",
        "sorted_a = sorted(a.items(), reverse=1, key=lambda k:(k[1], k[0]))\n",
        "for x in sorted_a:\n",
        "    print(x)"
      ],
      "metadata": {
        "colab": {
          "base_uri": "https://localhost:8080/"
        },
        "id": "k31K8AH8H1hd",
        "outputId": "5b642779-c270-47a8-bd54-bdef965a528c"
      },
      "execution_count": 43,
      "outputs": [
        {
          "output_type": "stream",
          "name": "stdout",
          "text": [
            "('carpet', 3466)\n",
            "('ceramic tile', 2487)\n",
            "('natural stone', 1486)\n",
            "('wood', 1234)\n",
            "('concrete', 754)\n",
            "('mexican tile', 644)\n",
            "('other', 456)\n",
            "('laminate', 86)\n",
            "('vinyl', 59)\n",
            "('porcelain', 59)\n",
            "('travertine', 34)\n"
          ]
        }
      ]
    },
    {
      "cell_type": "code",
      "source": [
        "test = df.copy()\n",
        "\n",
        "def convert_floor(x):\n",
        "    items = set([])\n",
        "    for item in x.split(','):\n",
        "        items.add(item.strip(' ').lower())\n",
        "    ar = set([])\n",
        "    for item in items:\n",
        "        if item in temp:\n",
        "            ar.add(item)\n",
        "        elif item == \"granite\" or item == 'indoor/outdoor':\n",
        "            ar.add(\"other\")\n",
        "    return list(ar)\n",
        "\n",
        "df.floor_covering = test.floor_covering.apply(lambda x: convert_floor(x))"
      ],
      "metadata": {
        "id": "D5wnA5llEn0W"
      },
      "execution_count": 44,
      "outputs": []
    },
    {
      "cell_type": "markdown",
      "source": [
        "#### Golf Courses?"
      ],
      "metadata": {
        "id": "fX7pIfuni4mJ"
      }
    },
    {
      "cell_type": "code",
      "source": [
        "gcs = [\n",
        "    \"600 S Alvernon Way, Tucson, AZ 85711\", \n",
        "    \"6601 E Speedway Blvd, Tucson, AZ 85710\", \n",
        "    \"1400 W Speedway Blvd, Tucson, AZ 85745\", \n",
        "    \"3600 N Silverbell Rd, Tucson, AZ 85745\", \n",
        "    \"3645 W Starr Pass Blvd, Tucson, AZ 85745\",\n",
        "    \"3660 E Sunrise Dr, Tucson, AZ 85718\",\n",
        "    \"8251 E Irvington Rd, Tucson, AZ 85730\",\n",
        "    \"9777 E Sabino Greens Dr, Tucson, AZ 85749\",\n",
        "    \"5655 W Valencia Rd, Tucson, AZ 85757\",\n",
        "    \"8900 E 29th St., Tucson, AZ 85710\",\n",
        "    \"6051 E 14th St, Tucson, AZ 85711\",\n",
        "    \"2727 W Club Dr, Tucson, AZ 85742\",\n",
        "    \"2950 N Camino Principal, Tucson, AZ 85715\",\n",
        "    \"9101 N Thornydale Rd, Tucson, AZ 85742\"\n",
        "]\n",
        "\n",
        "d = {'lat': [], 'lon': []}\n",
        "for i in gcs:\n",
        "    raw = get_geopy(i).raw\n",
        "    d['lat'].append(float(raw['lat']))\n",
        "    d['lon'].append(float(raw['lon']))\n",
        "golfs = pd.DataFrame.from_dict(d)\n",
        "print(golfs.to_dict())"
      ],
      "metadata": {
        "colab": {
          "base_uri": "https://localhost:8080/"
        },
        "id": "9V8y5dLai87o",
        "outputId": "6b072510-dc6d-4be8-a30a-3c102cbc13e6"
      },
      "execution_count": 45,
      "outputs": [
        {
          "output_type": "stream",
          "name": "stdout",
          "text": [
            "{'lat': {0: 32.2170556, 1: 32.239303699999994, 2: 32.23894725, 3: 32.269593, 4: 32.21276061974293, 5: 32.315879249999995, 6: 32.168690100000006, 7: 32.2996506, 8: 32.13120205, 9: 32.196329500000004, 10: 32.21703329685896, 11: 32.357150399999995, 12: 32.2503589, 13: 32.37498295}, 'lon': {0: -110.91396096077594, 1: -110.85158639073597, 2: -110.99823717986445, 3: -111.0248, 4: -111.04347151432609, 5: -110.90835985236096, 6: -110.81192982094552, 7: -110.78393175284572, 8: -111.08673277753888, 9: -110.80327593615809, 10: -110.86336374912842, 11: -111.02007726737105, 12: -110.8487721, 13: -111.05583525755708}}\n"
          ]
        }
      ]
    },
    {
      "cell_type": "code",
      "source": [
        "from geopy.distance import geodesic\n",
        "\n",
        "dcs_dict = {'lat': {0: 32.2170556, 1: 32.239303699999994, 2: 32.23894725, 3: 32.269593, 4: 32.21276061974293, 5: 32.315879249999995, 6: 32.168690100000006, 7: 32.2996506, 8: 32.13120205, 9: 32.196329500000004, 10: 32.21703329685896, 11: 32.357150399999995, 12: 32.2503589, 13: 32.37498295}, 'lon': {0: -110.91396096077594, 1: -110.85158639073597, 2: -110.99823717986445, 3: -111.0248, 4: -111.04347151432609, 5: -110.90835985236096, 6: -110.81192982094552, 7: -110.78393175284572, 8: -111.08673277753888, 9: -110.80327593615809, 10: -110.86336374912842, 11: -111.02007726737105, 12: -110.8487721, 13: -111.05583525755708}}\n",
        "golf_df = pd.DataFrame(data=dcs_dict)\n",
        "\n",
        "def golfers(golf_df, X):\n",
        "    dist_df = X[['latitude', 'longitude']].copy()\n",
        "    for i, v in golf_df.iterrows():\n",
        "        gc = (v['lat'], v['lon'])\n",
        "        lst = []\n",
        "        for ii, vv in dist_df.iterrows():\n",
        "            h = (vv['latitude'], vv['longitude'])\n",
        "            dmi = geodesic(gc, h).mi\n",
        "            lst.append(dmi)\n",
        "        dist_df[f'GC{i}'] = lst\n",
        "    return dist_df\n"
      ],
      "metadata": {
        "id": "G8RXGzRrHtek"
      },
      "execution_count": 46,
      "outputs": []
    },
    {
      "cell_type": "code",
      "source": [
        "# dist_df = golfers(golf_df, binned_df)"
      ],
      "metadata": {
        "id": "9qpNsHpdc_7H"
      },
      "execution_count": 47,
      "outputs": []
    },
    {
      "cell_type": "code",
      "source": [
        "# dist_df['sold_pice'] = binned_df.sold_price\n",
        "# first_col = dist_df.pop(\"sold_pice\")\n",
        "# dist_df.insert(0, \"sold_price\", first_col)\n",
        "# lat, lot = dist_df.pop(\"latitude\"), dist_df.pop(\"longitude\")\n",
        "# lot\n",
        "# gc9 = dist_df.pop(\"GC9\")\n",
        "# dist_df"
      ],
      "metadata": {
        "id": "YmO1rO7WrsJ5"
      },
      "execution_count": 48,
      "outputs": []
    },
    {
      "cell_type": "code",
      "source": [
        "# sold_price correlations to golf course distances\n",
        "# corrmat = dist_df.corr()\n",
        "# cols = corrmat.nlargest(len(dist_df.columns), 'sold_price')['sold_price'].index\n",
        "# cm = np.corrcoef(dist_df[cols].values.T)\n",
        "\n",
        "# # Heatmap\n",
        "# plt.figure(figsize=(10, 10))\n",
        "# ax = sns.heatmap(cm, cbar=True, annot=True, fmt='.2f', annot_kws={'size': 12}, cmap=\"flare\")\n",
        "# ax.set_yticklabels(cols.values, rotation=0)\n",
        "# ax.set_xticklabels(cols.values, rotation=60)\n",
        "# ax.set_title(\"Correlation Heatmap: sold_price\", fontsize=18)"
      ],
      "metadata": {
        "id": "OHKhfQgSkVqG"
      },
      "execution_count": 49,
      "outputs": []
    },
    {
      "cell_type": "code",
      "source": [
        "# binned_df[\"GC6\"] = dist_df.GC6"
      ],
      "metadata": {
        "id": "kCBcDOG1pS-B"
      },
      "execution_count": 50,
      "outputs": []
    },
    {
      "cell_type": "markdown",
      "source": [
        "### Binning"
      ],
      "metadata": {
        "id": "xm7yhMH4F5j6"
      }
    },
    {
      "cell_type": "code",
      "source": [
        "binned_df = pd.DataFrame(df[[\"sold_price\", \"pp_sqft\", \"longitude\", \"latitude\", \"zipcode\", \"bathrooms\", \"bedrooms\", \"sqrt_ft\", \"abs_lon\", \"abs_lat\"]])"
      ],
      "metadata": {
        "id": "9OHk5HyCHB4V"
      },
      "execution_count": 51,
      "outputs": []
    },
    {
      "cell_type": "code",
      "source": [
        "def bin(col, dist):\n",
        "    return np.round(col / dist) * dist\n",
        "\n",
        "def bin_int_column(X, col_name, bin_name, bin_size):\n",
        "    X = X.copy()\n",
        "    mid = int(round(bin_size/2,2))\n",
        "    for i, v in X.iterrows():\n",
        "        value = v[col_name]\n",
        "        rem = value % bin_size\n",
        "        laps = int((value - rem)/bin_size)\n",
        "        if rem > mid: laps += 1\n",
        "        X.at[i, bin_name] = laps\n",
        "    return X\n",
        "\n",
        "def bin_int_column2(X, col_name, bin_name, bin_sz, bin_start, bin_stop):\n",
        "    X = X.copy()\n",
        "    mid = int(round(bin_sz/2,2))\n",
        "    min_bin, max_bin = bin_start//bin_sz, bin_stop//bin_sz\n",
        "    for i, v in X.iterrows():\n",
        "        value = v[col_name]\n",
        "        rem = value % bin_sz\n",
        "        laps = int((value - rem)/bin_sz)\n",
        "        if rem > mid: \n",
        "            laps += 1\n",
        "        if laps <= min_bin:\n",
        "            laps = min_bin\n",
        "        elif laps > max_bin:\n",
        "            laps = max_bin\n",
        "        X.at[i, bin_name] = laps\n",
        "    return X"
      ],
      "metadata": {
        "id": "ieeorWn0F3mt"
      },
      "execution_count": 52,
      "outputs": []
    },
    {
      "cell_type": "markdown",
      "source": [
        "##### Binning based on pp_sqft"
      ],
      "metadata": {
        "id": "-MtYPQ3QsMRt"
      }
    },
    {
      "cell_type": "code",
      "source": [
        "# print(binned_df.pp_sqft.describe())\n",
        "# binned_df.pp_sqft.plot(kind=\"hist\")\n",
        "# binned_df[binned_df.pp_sqft < 600].pp_sqft.plot(kind=\"hist\")"
      ],
      "metadata": {
        "id": "mkNUW59qvf17"
      },
      "execution_count": 53,
      "outputs": []
    },
    {
      "cell_type": "code",
      "source": [
        "binned_df = binned_df[binned_df.pp_sqft < 1000]"
      ],
      "metadata": {
        "id": "x0XxSmfzM91p"
      },
      "execution_count": 54,
      "outputs": []
    },
    {
      "cell_type": "code",
      "source": [
        "binned_df = bin_int_column(binned_df, \"pp_sqft\", \"pp_sqft_bin\", 100)\n",
        "binned_df.pp_sqft_bin = binned_df.pp_sqft_bin.astype(int)"
      ],
      "metadata": {
        "id": "l6VyrnGwAgkj"
      },
      "execution_count": 55,
      "outputs": []
    },
    {
      "cell_type": "code",
      "source": [
        "print(binned_df.pp_sqft_bin.value_counts().sort_index())\n",
        "binned_df.pp_sqft_bin.plot(kind=\"hist\")"
      ],
      "metadata": {
        "colab": {
          "base_uri": "https://localhost:8080/",
          "height": 456
        },
        "id": "WPKpC2v4eseT",
        "outputId": "99ec41e7-a3a2-4377-f96d-3d9b3dc5ecba"
      },
      "execution_count": 56,
      "outputs": [
        {
          "output_type": "stream",
          "name": "stdout",
          "text": [
            "1     417\n",
            "2    3650\n",
            "3     723\n",
            "4      75\n",
            "5      36\n",
            "6       9\n",
            "7       2\n",
            "8       5\n",
            "9       1\n",
            "Name: pp_sqft_bin, dtype: int64\n"
          ]
        },
        {
          "output_type": "execute_result",
          "data": {
            "text/plain": [
              "<matplotlib.axes._subplots.AxesSubplot at 0x7f618f2c7050>"
            ]
          },
          "metadata": {},
          "execution_count": 56
        },
        {
          "output_type": "display_data",
          "data": {
            "text/plain": [
              "<Figure size 432x288 with 1 Axes>"
            ],
            "image/png": "[encoded data removed]"
          },
          "metadata": {
            "needs_background": "light"
          }
        }
      ]
    },
    {
      "cell_type": "code",
      "source": [
        "# Testing smaller bins\n",
        "binned_df2 = binned_df.copy()\n",
        "binned_df2 = bin_int_column2(binned_df2, \"pp_sqft\", \"pp_sqft_bin\", 25, 100, 450)\n",
        "binned_df2.pp_sqft_bin.value_counts().sort_index()"
      ],
      "metadata": {
        "colab": {
          "base_uri": "https://localhost:8080/"
        },
        "id": "T91unrTmD9eN",
        "outputId": "1789b249-0d6f-412c-87c8-46453b41ea20"
      },
      "execution_count": 57,
      "outputs": [
        {
          "output_type": "execute_result",
          "data": {
            "text/plain": [
              "4       44\n",
              "5      169\n",
              "6      514\n",
              "7     1007\n",
              "8     1167\n",
              "9      872\n",
              "10     497\n",
              "11     281\n",
              "12     138\n",
              "13      78\n",
              "14      36\n",
              "15      30\n",
              "16      11\n",
              "17      11\n",
              "18      63\n",
              "Name: pp_sqft_bin, dtype: int64"
            ]
          },
          "metadata": {},
          "execution_count": 57
        }
      ]
    },
    {
      "cell_type": "code",
      "source": [
        "# binned_df2.loc[(binned_df2.pp_sqft_bin == 13), 'pp_sqft_bin'] = 12\n",
        "# binned_df2.loc[(binned_df2.pp_sqft_bin >= 14), 'pp_sqft_bin'] = 14\n",
        "# binned_df2.loc[(binned_df2.pp_sqft_bin == 15), 'pp_sqft_bin'] = 14\n",
        "# binned_df2.loc[(binned_df2.pp_sqft_bin == 16), 'pp_sqft_bin'] = 14\n",
        "# binned_df2.loc[(binned_df2.pp_sqft_bin == 17), 'pp_sqft_bin'] = 14\n",
        "# binned_df2.loc[(binned_df2.pp_sqft_bin >= 18), 'pp_sqft_bin'] = 15\n",
        "# binned_df2.pp_sqft_bin.value_counts().sort_index()"
      ],
      "metadata": {
        "id": "6MaWZCXILx-P"
      },
      "execution_count": 58,
      "outputs": []
    },
    {
      "cell_type": "code",
      "source": [
        "print(binned_df2.pp_sqft_bin.value_counts().sort_index())\n",
        "# binned_df2.pp_sqft_bin.plot(kind=\"hist\")"
      ],
      "metadata": {
        "colab": {
          "base_uri": "https://localhost:8080/"
        },
        "id": "q4_T_UgsFKt3",
        "outputId": "ea8198ec-13cc-4892-fb3c-64c003c4e941"
      },
      "execution_count": 59,
      "outputs": [
        {
          "output_type": "stream",
          "name": "stdout",
          "text": [
            "4       44\n",
            "5      169\n",
            "6      514\n",
            "7     1007\n",
            "8     1167\n",
            "9      872\n",
            "10     497\n",
            "11     281\n",
            "12     138\n",
            "13      78\n",
            "14      36\n",
            "15      30\n",
            "16      11\n",
            "17      11\n",
            "18      63\n",
            "Name: pp_sqft_bin, dtype: int64\n"
          ]
        }
      ]
    },
    {
      "cell_type": "markdown",
      "source": [
        "#### Final bins"
      ],
      "metadata": {
        "id": "G8KgHNupDquz"
      }
    },
    {
      "cell_type": "markdown",
      "source": [
        "## Models"
      ],
      "metadata": {
        "id": "sBDaY6yHcN2B"
      }
    },
    {
      "cell_type": "markdown",
      "source": [
        "### The data"
      ],
      "metadata": {
        "id": "eqeg1SCZZy8V"
      }
    },
    {
      "cell_type": "code",
      "source": [
        "# binned_df['avg_room_size'] = (df[\"sqrt_ft\"]//(df.bedrooms + df.bathrooms)).astype(int)\n",
        "# df[\"pp_sqft_bin\"] = binned_df['pp_sqft_bin']\n",
        "# first_col = df.pop(\"pp_sqft_bin\")\n",
        "# df.insert(0, \"pp_sqft_bin\", first_col)"
      ],
      "metadata": {
        "id": "2vfrQWa41NUv"
      },
      "execution_count": 60,
      "outputs": []
    },
    {
      "cell_type": "code",
      "source": [
        "# pp_sqft_bin correlations \n",
        "corrmat = binned_df.corr()\n",
        "cols = corrmat.nlargest(len(binned_df.columns), 'pp_sqft_bin')['pp_sqft_bin'].index\n",
        "cm = np.corrcoef(binned_df[cols].values.T)\n",
        "\n",
        "# Heatmap\n",
        "sns.set(font='sans-serif', font_scale=1.25)\n",
        "plt.figure(figsize=(18, 18))\n",
        "ax = sns.heatmap(cm, cbar=True, annot=True, fmt='.2f', annot_kws={'size': 12}, cmap=\"flare\")\n",
        "ax.set_yticklabels(cols.values, rotation=0)\n",
        "ax.set_xticklabels(cols.values, rotation=60)\n",
        "ax.set_title(\"Correlation Heatmap: pp_sqft_bin\", fontsize=18)"
      ],
      "metadata": {
        "colab": {
          "base_uri": "https://localhost:8080/",
          "height": 795
        },
        "id": "7_XSZoguVubi",
        "outputId": "6fb8fd86-3b5a-460c-f6d9-f544c6d69f6f"
      },
      "execution_count": 61,
      "outputs": [
        {
          "output_type": "execute_result",
          "data": {
            "text/plain": [
              "Text(0.5, 1.0, 'Correlation Heatmap: pp_sqft_bin')"
            ]
          },
          "metadata": {},
          "execution_count": 61
        },
        {
          "output_type": "display_data",
          "data": {
            "text/plain": [
              "<Figure size 1296x1296 with 2 Axes>"
            ],
            "image/png": "[encoded data removed]"
          },
          "metadata": {}
        }
      ]
    },
    {
      "cell_type": "code",
      "source": [
        "# sold_price correlations\n",
        "corrmat = binned_df.corr()\n",
        "cols = corrmat.nlargest(len(binned_df.columns), 'sold_price')['sold_price'].index\n",
        "cm = np.corrcoef(binned_df[cols].values.T)\n",
        "\n",
        "# Heatmap\n",
        "plt.figure(figsize=(10, 10))\n",
        "ax = sns.heatmap(cm, cbar=True, annot=True, fmt='.2f', annot_kws={'size': 12}, cmap=\"flare\")\n",
        "ax.set_yticklabels(cols.values, rotation=0)\n",
        "ax.set_xticklabels(cols.values, rotation=60)\n",
        "ax.set_title(\"Correlation Heatmap: sold_price\", fontsize=18)"
      ],
      "metadata": {
        "id": "JdfRpkyYpY5B",
        "colab": {
          "base_uri": "https://localhost:8080/",
          "height": 696
        },
        "outputId": "fc373a47-c028-4e7d-ff96-8c6dd034d68c"
      },
      "execution_count": 62,
      "outputs": [
        {
          "output_type": "execute_result",
          "data": {
            "text/plain": [
              "Text(0.5, 1.0, 'Correlation Heatmap: sold_price')"
            ]
          },
          "metadata": {},
          "execution_count": 62
        },
        {
          "output_type": "display_data",
          "data": {
            "text/plain": [
              "<Figure size 720x720 with 2 Axes>"
            ],
            "image/png": "[encoded data removed]"
          },
          "metadata": {}
        }
      ]
    },
    {
      "cell_type": "code",
      "source": [
        "# print(binned_df.pp_sqft_bin.value_counts().sort_index())\n",
        "binned_df.pp_sqft_bin.plot(kind=\"hist\")"
      ],
      "metadata": {
        "colab": {
          "base_uri": "https://localhost:8080/",
          "height": 289
        },
        "id": "HKa7AqONRcL9",
        "outputId": "94a68699-19b9-4249-ff3e-bda8323339d2"
      },
      "execution_count": 63,
      "outputs": [
        {
          "output_type": "execute_result",
          "data": {
            "text/plain": [
              "<matplotlib.axes._subplots.AxesSubplot at 0x7f618ece7fd0>"
            ]
          },
          "metadata": {},
          "execution_count": 63
        },
        {
          "output_type": "display_data",
          "data": {
            "text/plain": [
              "<Figure size 432x288 with 1 Axes>"
            ],
            "image/png": "[encoded data removed]"
          },
          "metadata": {}
        }
      ]
    },
    {
      "cell_type": "code",
      "source": [
        "# print(binned_df2.pp_sqft_bin.value_counts().sort_index())\n",
        "binned_df2.pp_sqft_bin.plot(kind=\"hist\")"
      ],
      "metadata": {
        "colab": {
          "base_uri": "https://localhost:8080/",
          "height": 289
        },
        "id": "6cEQ2c7uSbn4",
        "outputId": "1383f797-0bf8-47c1-af5a-c8e8e79ffa87"
      },
      "execution_count": 64,
      "outputs": [
        {
          "output_type": "execute_result",
          "data": {
            "text/plain": [
              "<matplotlib.axes._subplots.AxesSubplot at 0x7f618eeeda10>"
            ]
          },
          "metadata": {},
          "execution_count": 64
        },
        {
          "output_type": "display_data",
          "data": {
            "text/plain": [
              "<Figure size 432x288 with 1 Axes>"
            ],
            "image/png": "[encoded data removed]"
          },
          "metadata": {}
        }
      ]
    },
    {
      "cell_type": "code",
      "source": [
        "print(len(binned_df.pp_sqft_bin.unique()))\n",
        "print(len(binned_df2.pp_sqft_bin.unique()))"
      ],
      "metadata": {
        "colab": {
          "base_uri": "https://localhost:8080/"
        },
        "id": "4k8pAvxgTWDJ",
        "outputId": "50fd94d7-6401-4c4d-8b8a-ec22084c35d5"
      },
      "execution_count": 65,
      "outputs": [
        {
          "output_type": "stream",
          "name": "stdout",
          "text": [
            "9\n",
            "15\n"
          ]
        }
      ]
    },
    {
      "cell_type": "markdown",
      "source": [
        "### Classifier"
      ],
      "metadata": {
        "id": "sJtSnHQrcS3U"
      }
    },
    {
      "cell_type": "code",
      "source": [
        "modelling_df = binned_df2.copy()\n",
        "class_features, class_target = [\"abs_lon\", \"abs_lat\"], [\"pp_sqft_bin\"]\n",
        "X_train, y_train, X_test, y_test = train_test_split(modelling_df, class_features, class_target)"
      ],
      "metadata": {
        "colab": {
          "base_uri": "https://localhost:8080/"
        },
        "id": "0lS1a85hJ5l2",
        "outputId": "797f9202-3356-4600-af32-ab4cab8bbc4d"
      },
      "execution_count": 66,
      "outputs": [
        {
          "output_type": "stream",
          "name": "stdout",
          "text": [
            "[18]\n"
          ]
        }
      ]
    },
    {
      "cell_type": "code",
      "source": [
        "knn = KNNClassifier()\n",
        "knn.fit(X_train, y_train)\n",
        "knn_yhat = knn.predict(X_test, K=10)\n",
        "knn_acc = acc(y_test, knn_yhat)\n",
        "knn_acc"
      ],
      "metadata": {
        "colab": {
          "base_uri": "https://localhost:8080/"
        },
        "id": "06J9WFwccbI6",
        "outputId": "01240417-165f-4a77-b6c2-478b36424034"
      },
      "execution_count": 67,
      "outputs": [
        {
          "output_type": "execute_result",
          "data": {
            "text/plain": [
              "0.25203252032520324"
            ]
          },
          "metadata": {},
          "execution_count": 67
        }
      ]
    },
    {
      "cell_type": "markdown",
      "source": [
        "### Creating a dataframe with our new feature\n",
        "\n"
      ],
      "metadata": {
        "id": "YxMd2ZecUEJp"
      }
    },
    {
      "cell_type": "code",
      "source": [
        "# Create a new df with the predictions as a feature\n",
        "new_df = df.copy()\n",
        "new_df['cls'] = modelling_df[class_target]"
      ],
      "metadata": {
        "id": "5Q84D6QRQy3-"
      },
      "execution_count": 68,
      "outputs": []
    },
    {
      "cell_type": "code",
      "source": [
        "# Removing a null value that randomly appeared before the demo\n",
        "new_df[new_df.cls.isnull()]\n",
        "new_df = new_df.dropna()"
      ],
      "metadata": {
        "id": "ktc-suIvJpWx"
      },
      "execution_count": 69,
      "outputs": []
    },
    {
      "cell_type": "markdown",
      "source": [
        "### Regressor"
      ],
      "metadata": {
        "id": "lMc5_CGzcX8s"
      }
    },
    {
      "cell_type": "code",
      "source": [
        "reg_features, reg_target = [\"cls\", \"sqrt_ft\", \"bathrooms\"], [\"sold_price\"]"
      ],
      "metadata": {
        "id": "z_ZevLuGtFm6"
      },
      "execution_count": 176,
      "outputs": []
    },
    {
      "cell_type": "code",
      "source": [
        "X_train_reg, y_train_reg, X_test_reg, y_test_reg = train_test_split(new_df, reg_features, reg_target)"
      ],
      "metadata": {
        "colab": {
          "base_uri": "https://localhost:8080/"
        },
        "id": "23pknWE3QGny",
        "outputId": "b77c9042-ce4e-446c-a869-14f48279f87b"
      },
      "execution_count": 177,
      "outputs": [
        {
          "output_type": "stream",
          "name": "stdout",
          "text": [
            "[185]\n"
          ]
        }
      ]
    },
    {
      "cell_type": "code",
      "source": [
        "mreg = OurLinearRegression()\n",
        "mreg.fit(X_train_reg, y_train_reg, alpha=1e-12, epochs=2e5)\n",
        "y_hat_reg = mreg.predict(X_test_reg)\n",
        "R2(y_test_reg, y_hat_reg)"
      ],
      "metadata": {
        "colab": {
          "base_uri": "https://localhost:8080/"
        },
        "id": "g7oEx3agcSH0",
        "outputId": "1379a05e-6196-4899-d270-da020fef9da5"
      },
      "execution_count": 178,
      "outputs": [
        {
          "output_type": "execute_result",
          "data": {
            "text/plain": [
              "0.2778617163500632"
            ]
          },
          "metadata": {},
          "execution_count": 178
        }
      ]
    },
    {
      "cell_type": "markdown",
      "source": [
        "## Demo"
      ],
      "metadata": {
        "id": "t0jj-9VdnohF"
      }
    },
    {
      "cell_type": "code",
      "source": [
        "def demo(classifier, regressor, addr, feature_array):\n",
        "    coords = abs(get_coords(addr))\n",
        "    pred_bin = classifier.predict(coords, K=25)\n",
        "    to_reg = [int(pred_bin)] + feature_array\n",
        "    pred_val = regressor.predict(to_reg)\n",
        "    return pred_bin, round(pred_val, 2)"
      ],
      "metadata": {
        "id": "i14GvEUO0OF6"
      },
      "execution_count": 2,
      "outputs": []
    },
    {
      "cell_type": "code",
      "source": [
        "# filtered_df = df.loc[df['Symbol'] == 'A99']\n",
        "# filtered_df = df.loc[df['Symbol'].isin('A99')]"
      ],
      "metadata": {
        "id": "s2zY8hC7-tPk"
      },
      "execution_count": null,
      "outputs": []
    }
  ]
}